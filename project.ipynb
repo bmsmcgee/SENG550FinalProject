{
 "cells": [
  {
   "cell_type": "markdown",
   "metadata": {},
   "source": [
    "# SENG 550 Final Project\n",
    "### Use the Amazon Appliances reviews dataset to develop a classifier or sentiment analyzer that can predict whether a given review is favorable or not"
   ]
  },
  {
   "cell_type": "markdown",
   "metadata": {},
   "source": [
    "## Abstract\n",
    "\n",
    "Our project uses the Amazon Appliances [reviews dataset](https://amazon-reviews-2023.github.io/) to develop a sentiment analyzer classification model. By combining star ratings and textual content, the model is trained to predict whether a review leans positively or negatively towards a product. This approach offers a way to quickly grasp the general sentiment of a product and assist shoppers in filtering through large volumes of product feedback more efficiently."
   ]
  },
  {
   "cell_type": "markdown",
   "metadata": {
    "vscode": {
     "languageId": "plaintext"
    }
   },
   "source": [
    "## Introduction\n",
    "\n",
    "### Selected Problem\n",
    "\n",
    "The problem aims to distinguish between favourable and unfavourable appliance reviews based on their text and accompanying reviews.\n",
    "\n",
    "### Why is it Important?\n",
    "\n",
    "Spending time reading review after review on a product becomes a burden. It is easy to misinterpret the mood behind a set of comments online which can easily lead to poor purchase decisions. A quick, automated sentiment indicator can ease the burden and establish a neutral decision making process.\n",
    "\n",
    "### What have Others Done in this Space?\n",
    "\n",
    "Researchers have performed [sentiment analysis](https://medium.com/@nafisaidris413/a-beginners-guide-for-product-review-sentiment-analysis-0de1f451167d) using Machine Learning and Natural Language Processing to automatically classify reviews as positive, negative, or neutral. Not only has sentiment analysis been applied to product reviews, it has also been applied to [social media](https://buffer.com/social-media-terms/sentiment-analysis) to determine how people perceive and talk about products and brands. This proves that data-driven classifiers are able to provide sentiment analysis scores for assist people in their daily lives, whether its to determine how their personal brand is viewed or how a to make an informed purchase through product review.\n",
    "\n",
    "### Existing gaps?\n",
    "\n",
    "Current solutions rely on product ratings to provide consumers with a sense of trust and quality to help them make purchasing decisions. This can be seen simply by going to any Amazon product and checking the reviews. Some reviews are informative with many positives about the product, though the product receives less than a rating of 5-stars, or the review is not informative whatsoever with a rating of 5-stars. Other times the reviews are clearly biased or the customer who leaves the review is disgruntled, leading to a 1- or 2-star rating. Using a combination of product star rating and textual review content, we are attempting to reveal patterns in product reviews that a rating alone might miss.\n",
    "\n",
    "### Data Analysis Questions\n",
    "\n",
    "1. Does text-based features add value beyond just a numerical rating?\n",
    "2. Are there certain words which portray a stronger positve or negative sentiment?\n",
    "3. How will adding text preprocessing impact accuracy?\n",
    "4. Which models work best with this data?\n",
    "\n",
    "### What is Proposed\n",
    "\n",
    "We are proposing a text classification pipeline that merges a product's star rating and textual features.\n",
    "\n",
    "### What are your Main Findings?\n",
    "\n",
    "To determine customer opinion on various products within the Appliance category in Amazon's online store."
   ]
  },
  {
   "cell_type": "markdown",
   "metadata": {},
   "source": [
    "## Methodology\n",
    "\n",
    "### Exploration of Data Features and Refinement of Feature Space\n",
    "\n",
    "In this section, we focused on understanding the raw data collected from the collected [datasets](https://amazon-reviews-2023.github.io/) and transform them into a format suitable for model training. We begin by loading the Amazon Appliance reviews dataset and its corresponding metadata. We will explore the structure of the data, examine the distribution of fields we are interested in (like ratings), and assess the overall quality of the text reviews associated with the products. After we gain a thorough understanding, we apply a series of preprocessing techniques to clean and refine the text data. The goal here is to ultimately develop a set of features that can be fed into a machine learning model for sentiment classification.\n",
    "\n",
    "#### Key Steps\n",
    "\n",
    "1. **Loading the Data:**\n",
    "We will loaf the `Appliances.jsonl` (reviews) and `meta_Appliances.jsonl` (metadata) using Apache Spark to avoid memory overload\n",
    "\n",
    "2. **Initial Inspection and Basic Statistics:**\n",
    "We will look at a few sample rows, check data types, count missing values, and examine distributions.\n",
    "\n",
    "3. **Textual Data Exploration:**\n",
    "We consider the nature of each review such as its length, the character composition, and common words. This should help guide our text cleaning decision.\n",
    "\n",
    "4. **Data Cleaning:**\n",
    "We clean the text by methods such as lowercasing the characters, removing punctuation, stripping leading and/or trailing whitespaces.\n",
    "\n",
    "5. **Feature Transformation:**\n",
    "We will use Spark Machine Learning's feature extraction tools to convert raw text into numeric features that are typically suitable for machine learning models."
   ]
  },
  {
   "cell_type": "markdown",
   "metadata": {},
   "source": [
    "#### Load the Data\n",
    "\n",
    "The datasets are provided in `*.jsonl` format, which means each line is a separate JSON object representing a single review or product's metadata. We will use `SparkSession` to read the files which will handle the data in a distributed manner, effectively avoiding a potential kernel crash. Spark's lazy evaluation, transformations, and actions will manage memory usage of the large `.jsonl` files.\n",
    "\n",
    "The two main data sources:\n",
    "1. **Review File (`Appliances.jsonl`):**\n",
    "Contains user-level reviews with fields such as `rating`, `title`, `text`, and `helpful_vote`.\n",
    "\n",
    "2. **Metada File (`meta_Appliaces.jsonl`):**\n",
    "Contains product-level information like `main_category`, `average_rating`, and `price`."
   ]
  },
  {
   "cell_type": "code",
   "execution_count": 173,
   "metadata": {},
   "outputs": [],
   "source": [
    "import os\n",
    "import numpy as np\n",
    "from functools import reduce\n",
    "from pyspark.sql import SparkSession\n",
    "from pyspark.sql.functions import col, isnan, when, count, expr, sum, size, lower, regexp_replace, min, avg, max, length, stddev\n",
    "from pyspark.sql.types import StructType, StructField, StringType, FloatType, BooleanType, IntegerType, ArrayType, MapType\n",
    "from pyspark.ml import Pipeline\n",
    "from pyspark.ml.feature import Tokenizer, StopWordsRemover, CountVectorizer, IDF, StringIndexer\n",
    "from pyspark.ml.classification import LogisticRegression\n",
    "from pyspark.ml.tuning import ParamGridBuilder, CrossValidator\n",
    "from pyspark.ml.evaluation import BinaryClassificationEvaluator, MulticlassClassificationEvaluator\n"
   ]
  },
  {
   "cell_type": "code",
   "execution_count": 137,
   "metadata": {},
   "outputs": [],
   "source": [
    "# Start a Spark Session\n",
    "spark = (\n",
    "    SparkSession.builder\n",
    "        .master(\"local[*]\")     \n",
    "        .appName(\"Amazon Review Analysis\")\n",
    "        .config(\"spark.driver.memory\", \"4g\")\n",
    "        .config(\"spark.executor.memory\", \"4g\")\n",
    "        .config(\"spark.sql.autoBroadcastJoinThreshold\", -1)\n",
    "        .getOrCreate()\n",
    ")\n",
    "\n",
    "def create_schema(fields):\n",
    "    return StructType([StructField(name, dtype, True) for name, dtype in fields])\n",
    "\n",
    "# Only using columns needed for analysis for Reviews\n",
    "reviews_schema = create_schema([\n",
    "    (\"rating\", FloatType()),\n",
    "    (\"title\", StringType()),\n",
    "    (\"text\", StringType()),\n",
    "    (\"helpful_vote\", IntegerType()),\n",
    "    (\"asin\", StringType()),\n",
    "    (\"parent_asin\", StringType())\n",
    "])\n",
    "\n",
    "# Only using columns needed for analysis for Metadata\n",
    "meta_schema = create_schema([\n",
    "    (\"main_category\", StringType()),\n",
    "    (\"title\", StringType()),\n",
    "    (\"average_rating\", FloatType()),\n",
    "    (\"rating_number\", IntegerType()),\n",
    "    (\"price\", FloatType()),\n",
    "    (\"categories\", ArrayType(StringType())),\n",
    "    (\"parent_asin\", StringType())\n",
    "])\n",
    "\n",
    "# Point to the location where the .jsonl files are\n",
    "data_files = {\n",
    "    \"reviews\": \"./datasets/Appliances.jsonl\",\n",
    "    \"meta\": \"./datasets/meta_Appliances.jsonl\"\n",
    "    \n",
    "}\n",
    "\n",
    "# Use the schema when reading the JSON file for Reviews\n",
    "df_reviews = spark.read.schema(reviews_schema).json(data_files[\"reviews\"])\n",
    "\n",
    "# Use the schema when reading the JSON file for Meta\n",
    "df_meta = spark.read.schema(meta_schema).json(data_files[\"meta\"])"
   ]
  },
  {
   "cell_type": "markdown",
   "metadata": {},
   "source": [
    "---"
   ]
  },
  {
   "cell_type": "markdown",
   "metadata": {},
   "source": [
    "### Initial Inspection & Basic Statistics\n",
    "\n",
    "First it is important to understand the size of the dataset we are dealing with and the distribution of ratings. Using Spark actions like `show()` and `count()` we determine some initial statistics about both datasets which will be helpful to visualize them. We also would like to know how many values in each column of the datasets are `null`, `None`, and `NaN`, in case we need to do some backfilling or should ignore those sets completely. We can also display a few rows of each dataset which makes sure that the datasets were loaded successfully."
   ]
  },
  {
   "cell_type": "markdown",
   "metadata": {},
   "source": [
    "#### Dataset Structure Inspection\n",
    "\n",
    "For the structure of each dataset we will check the datasets dimensions, schema, and preview the data to understand each dataset."
   ]
  },
  {
   "cell_type": "code",
   "execution_count": 138,
   "metadata": {},
   "outputs": [],
   "source": [
    "# Dataset Structure Inpsection Function\n",
    "\n",
    "def structure_inspection(df, name):\n",
    "    # Print Dimensions\n",
    "    print(f\"{name} Dimensions: {df.count()} rows, {len(df.columns)} columns\")\n",
    "    \n",
    "    # Print Schema\n",
    "    print(f\"\\n{name} Schema:\")\n",
    "    df.printSchema()\n",
    "    \n",
    "    # Preview Data\n",
    "    print(f\"\\n{name} Preview:\")\n",
    "    df.show(10, truncate=True)"
   ]
  },
  {
   "cell_type": "code",
   "execution_count": 139,
   "metadata": {},
   "outputs": [
    {
     "name": "stderr",
     "output_type": "stream",
     "text": [
      "[Stage 0:>                                                        (0 + 12) / 12]\r"
     ]
    },
    {
     "name": "stdout",
     "output_type": "stream",
     "text": [
      "Appliance Reviews Dimensions: 2128605 rows, 6 columns\n",
      "\n",
      "Appliance Reviews Schema:\n",
      "root\n",
      " |-- rating: float (nullable = true)\n",
      " |-- title: string (nullable = true)\n",
      " |-- text: string (nullable = true)\n",
      " |-- helpful_vote: integer (nullable = true)\n",
      " |-- asin: string (nullable = true)\n",
      " |-- parent_asin: string (nullable = true)\n",
      "\n",
      "\n",
      "Appliance Reviews Preview:\n",
      "+------+--------------------+--------------------+------------+----------+-----------+\n",
      "|rating|               title|                text|helpful_vote|      asin|parent_asin|\n",
      "+------+--------------------+--------------------+------------+----------+-----------+\n",
      "|   5.0|          Work great|work great. use a...|           0|B01N0TQ0OH| B01N0TQ0OH|\n",
      "|   5.0|   excellent product|Little on the thi...|           0|B07DD2DMXB| B07DD37QPZ|\n",
      "|   5.0|     Happy customer!|Quick delivery, f...|           0|B082W3Z9YK| B082W3Z9YK|\n",
      "|   5.0|       Amazing value|I wasn't sure whe...|           0|B078W2BJY8| B078W2BJY8|\n",
      "|   5.0|         Dryer parts|Easy to install g...|           0|B08C9LPCQV| B08C9LPCQV|\n",
      "|   5.0|DO NOT purchase t...|After buying this...|           0|B08D6RFV6D| B099ZKQJHK|\n",
      "|   2.0|They don't fit pr...|Not the best quality|           0|B001TH7GZA| B001TH7H0O|\n",
      "|   5.0|          Five Stars|Part came quickly...|           0|B00AF7WZTM| B00AF7WZTM|\n",
      "|   5.0|          Five Stars|Always arrive in ...|           0|B001H05AXY| B001H05AXY|\n",
      "|   2.0|Company is phenom...|The company respo...|           0|B085C6C7WH| B085C6C7WH|\n",
      "+------+--------------------+--------------------+------------+----------+-----------+\n",
      "only showing top 10 rows\n",
      "\n"
     ]
    },
    {
     "name": "stderr",
     "output_type": "stream",
     "text": [
      "                                                                                \r"
     ]
    }
   ],
   "source": [
    "# Inspect Reviews\n",
    "structure_inspection(df_reviews, \"Appliance Reviews\")"
   ]
  },
  {
   "cell_type": "code",
   "execution_count": 140,
   "metadata": {},
   "outputs": [
    {
     "name": "stdout",
     "output_type": "stream",
     "text": [
      "Appliance Metadata Dimensions: 94327 rows, 7 columns\n",
      "\n",
      "Appliance Metadata Schema:\n",
      "root\n",
      " |-- main_category: string (nullable = true)\n",
      " |-- title: string (nullable = true)\n",
      " |-- average_rating: float (nullable = true)\n",
      " |-- rating_number: integer (nullable = true)\n",
      " |-- price: float (nullable = true)\n",
      " |-- categories: array (nullable = true)\n",
      " |    |-- element: string (containsNull = true)\n",
      " |-- parent_asin: string (nullable = true)\n",
      "\n",
      "\n",
      "Appliance Metadata Preview:\n",
      "+--------------------+--------------------+--------------+-------------+-----+--------------------+-----------+\n",
      "|       main_category|               title|average_rating|rating_number|price|          categories|parent_asin|\n",
      "+--------------------+--------------------+--------------+-------------+-----+--------------------+-----------+\n",
      "|Industrial & Scie...|ROVSUN Ice Maker ...|           3.7|           61| NULL|[Appliances, Refr...| B08Z743RRD|\n",
      "|Tools & Home Impr...|HANSGO Egg Holder...|           4.2|           75| NULL|[Appliances, Part...| B097BQDGHJ|\n",
      "|Tools & Home Impr...|Clothes Dryer Dru...|           3.5|           18| NULL|[Appliances, Part...| B00IN9AGAE|\n",
      "|Tools & Home Impr...|154567702 Dishwas...|           4.5|           26| NULL|[Appliances, Part...| B0C7K98JZS|\n",
      "|Tools & Home Impr...|Whirlpool W109185...|           3.8|           12|25.07|[Appliances, Part...| B07QZHQTVJ|\n",
      "|Tools & Home Impr...|1841N030 - Brown ...|           4.5|            7| NULL|[Appliances, Part...| B00GS4892I|\n",
      "|          Appliances|WD12X10327 Rack R...|           4.6|          323| 8.99|[Appliances, Part...| B07W42P978|\n",
      "|Tools & Home Impr...|SAMSUNG Cap-Handl...|           4.0|           12|53.68|[Appliances, Part...| B078ZF9JS1|\n",
      "|         Amazon Home|G.a HOMEFAVOR Col...|           4.5|          326| NULL|[Small Appliance ...| B083Q6Y54F|\n",
      "|Tools & Home Impr...|3-pack OnePurify ...|           4.3|          236| NULL|[Appliances, Part...| B00KAS9ZMG|\n",
      "+--------------------+--------------------+--------------+-------------+-----+--------------------+-----------+\n",
      "only showing top 10 rows\n",
      "\n"
     ]
    }
   ],
   "source": [
    "# Inspect Metadata\n",
    "structure_inspection(df_meta, \"Appliance Metadata\")"
   ]
  },
  {
   "cell_type": "markdown",
   "metadata": {},
   "source": [
    "#### Missing Values Inspection\n",
    "\n",
    "Missing values is one of the most common headaches in datasets. We need to check for them in both datasets to ensure that we can confidently use the data, else we have to consider backfilling the missing data or not using it at all."
   ]
  },
  {
   "cell_type": "code",
   "execution_count": 141,
   "metadata": {},
   "outputs": [],
   "source": [
    "def get_nulls_counter(df, col_dtypes):\n",
    "    null_dfs = []\n",
    "    for col_dtype, cols in col_dtypes.items():\n",
    "        if col_dtype in [\"float\", \"integer\"]:\n",
    "            null_dfs.append(df.select([sum(col(c).isNull().cast(\"int\")).alias(c) for c in cols]))\n",
    "        elif col_dtype == \"string\":\n",
    "            null_dfs.append(df.select([sum((col(c).isNull() | (col(c) == \"\")).cast(\"int\")).alias(c) for c in cols]))\n",
    "        elif col_dtype == \"array\":\n",
    "            null_dfs.append(df.select([sum((col(c).isNull() | expr(f\"exists({c}, x -> x == '')\")).cast(\"int\")).alias(c) for c in cols]))\n",
    "\n",
    "    # Combine all null DataFrames using reduce\n",
    "    return reduce(lambda df1, df2: df1.crossJoin(df2), null_dfs)\n"
   ]
  },
  {
   "cell_type": "code",
   "execution_count": 142,
   "metadata": {},
   "outputs": [],
   "source": [
    "def print_missing_values(df, name):\n",
    "    col_dtypes = {\n",
    "        \"float\": [c for c in df.columns if df.schema[c].dataType.simpleString() == \"float\"],\n",
    "        \"string\": [c for c in df.columns if df.schema[c].dataType.simpleString() == \"string\"],\n",
    "        \"integer\": [c for c in df.columns if df.schema[c].dataType.simpleString() == \"int\"],\n",
    "        \"array\": [c for c in df.columns if df.schema[c].dataType.simpleString().startswith(\"array\")]\n",
    "    }\n",
    "    \n",
    "    null_counter = get_nulls_counter(df, col_dtypes)\n",
    "    \n",
    "    print(f\"{name} Counted Missing Values per Column:\")\n",
    "    null_counter.show(1)"
   ]
  },
  {
   "cell_type": "code",
   "execution_count": 143,
   "metadata": {},
   "outputs": [
    {
     "name": "stdout",
     "output_type": "stream",
     "text": [
      "Appliance Reviews Counted Missing Values per Column:\n"
     ]
    },
    {
     "name": "stderr",
     "output_type": "stream",
     "text": [
      "[Stage 10:>                                                       (0 + 12) / 12]\r"
     ]
    },
    {
     "name": "stdout",
     "output_type": "stream",
     "text": [
      "+------+-----+----+----+-----------+------------+\n",
      "|rating|title|text|asin|parent_asin|helpful_vote|\n",
      "+------+-----+----+----+-----------+------------+\n",
      "|     0|    0|  95|   0|          0|           0|\n",
      "+------+-----+----+----+-----------+------------+\n",
      "only showing top 1 row\n",
      "\n"
     ]
    },
    {
     "name": "stderr",
     "output_type": "stream",
     "text": [
      "                                                                                \r"
     ]
    }
   ],
   "source": [
    "print_missing_values(df_reviews, \"Appliance Reviews\")"
   ]
  },
  {
   "cell_type": "code",
   "execution_count": 144,
   "metadata": {},
   "outputs": [
    {
     "name": "stdout",
     "output_type": "stream",
     "text": [
      "Appliance Metadata Counted Missing Values per Column:\n"
     ]
    },
    {
     "name": "stderr",
     "output_type": "stream",
     "text": [
      "[Stage 18:>                                                       (0 + 12) / 12]\r"
     ]
    },
    {
     "name": "stdout",
     "output_type": "stream",
     "text": [
      "+--------------+-----+-------------+-----+-----------+-------------+----------+\n",
      "|average_rating|price|main_category|title|parent_asin|rating_number|categories|\n",
      "+--------------+-----+-------------+-----+-----------+-------------+----------+\n",
      "|             0|47601|         4676|    9|          0|            0|         0|\n",
      "+--------------+-----+-------------+-----+-----------+-------------+----------+\n",
      "\n"
     ]
    },
    {
     "name": "stderr",
     "output_type": "stream",
     "text": [
      "                                                                                \r"
     ]
    }
   ],
   "source": [
    "print_missing_values(df_meta, \"Appliance Metadata\")"
   ]
  },
  {
   "cell_type": "markdown",
   "metadata": {},
   "source": [
    "#### Duplicates\n",
    "\n",
    "Catching if there is duplicate data is important so that we do not have skewed data. All the data should be unique. Duplicate data will be handled during data cleanup."
   ]
  },
  {
   "cell_type": "code",
   "execution_count": 145,
   "metadata": {},
   "outputs": [],
   "source": [
    "def duplicate_data(df, name):\n",
    "    total_count = df.count()\n",
    "    distinct_count = df.distinct().count()\n",
    "    duplicate_count = total_count - distinct_count\n",
    "    print(f\"{name} Duplicate Data: {duplicate_count}\\n(Total: {total_count}, Distinct: {distinct_count})\")       \n",
    "    "
   ]
  },
  {
   "cell_type": "code",
   "execution_count": 146,
   "metadata": {},
   "outputs": [
    {
     "name": "stderr",
     "output_type": "stream",
     "text": [
      "[Stage 29:========================================================(13 + 0) / 13]\r"
     ]
    },
    {
     "name": "stdout",
     "output_type": "stream",
     "text": [
      "Appliance Reviews Duplicate Data: 29492\n",
      "(Total: 2128605, Distinct: 2099113)\n"
     ]
    },
    {
     "name": "stderr",
     "output_type": "stream",
     "text": [
      "                                                                                \r"
     ]
    }
   ],
   "source": [
    "duplicate_data(df_reviews, \"Appliance Reviews\")\n"
   ]
  },
  {
   "cell_type": "code",
   "execution_count": 147,
   "metadata": {},
   "outputs": [
    {
     "name": "stderr",
     "output_type": "stream",
     "text": [
      "[Stage 36:====>                                                   (1 + 11) / 12]\r"
     ]
    },
    {
     "name": "stdout",
     "output_type": "stream",
     "text": [
      "Appliance Metadata Duplicate Data: 0\n",
      "(Total: 94327, Distinct: 94327)\n"
     ]
    },
    {
     "name": "stderr",
     "output_type": "stream",
     "text": [
      "                                                                                \r"
     ]
    }
   ],
   "source": [
    "duplicate_data(df_meta, \"Appliance Metadata\")"
   ]
  },
  {
   "cell_type": "markdown",
   "metadata": {},
   "source": [
    "#### Statistical Data\n",
    "\n",
    "We examine the statistical summaries for both the Reviews and Metadata. This helps us spot outliers and check if there are unexpected ranges that we have to look out for."
   ]
  },
  {
   "cell_type": "code",
   "execution_count": 148,
   "metadata": {},
   "outputs": [
    {
     "name": "stdout",
     "output_type": "stream",
     "text": [
      "Appliance Reviews Statistical Summary\n"
     ]
    },
    {
     "name": "stderr",
     "output_type": "stream",
     "text": [
      "[Stage 42:===================================================>    (11 + 1) / 12]\r"
     ]
    },
    {
     "name": "stdout",
     "output_type": "stream",
     "text": [
      "+-------+------------------+--------------------+--------------------+------------------+--------------------+--------------------+\n",
      "|summary|            rating|               title|                text|      helpful_vote|                asin|         parent_asin|\n",
      "+-------+------------------+--------------------+--------------------+------------------+--------------------+--------------------+\n",
      "|  count|           2128605|             2128605|             2128605|           2128605|             2128605|             2128605|\n",
      "|   mean| 4.221502345432807|                 NaN|1.0294495574587156E9|0.9288867591685634|1.5550635848728814E9|1.5550635848728814E9|\n",
      "| stddev|1.3808261737697285|                 NaN|1.064196457532015...|12.526794316769463|1.4548141211071749E9|1.4548141211071749E9|\n",
      "|    min|               1.0|                   !|                    |                 0|          0967805929|          0967805929|\n",
      "|    max|               5.0|🧊🥶 AMAZING 🤩  ...|🧐doesn’t filter ...|              5704|          B0CFQVYFWC|          B0CKR66M1V|\n",
      "+-------+------------------+--------------------+--------------------+------------------+--------------------+--------------------+\n",
      "\n"
     ]
    },
    {
     "name": "stderr",
     "output_type": "stream",
     "text": [
      "                                                                                \r"
     ]
    }
   ],
   "source": [
    "print(f\"Appliance Reviews Statistical Summary\")\n",
    "df_reviews.describe().show(truncate=True)"
   ]
  },
  {
   "cell_type": "code",
   "execution_count": 149,
   "metadata": {},
   "outputs": [
    {
     "name": "stdout",
     "output_type": "stream",
     "text": [
      "Appliance Metadata Statistical Summary\n"
     ]
    },
    {
     "name": "stderr",
     "output_type": "stream",
     "text": [
      "[Stage 45:>                                                       (0 + 12) / 12]\r"
     ]
    },
    {
     "name": "stdout",
     "output_type": "stream",
     "text": [
      "+-------+--------------+--------------------+------------------+------------------+------------------+--------------------+\n",
      "|summary| main_category|               title|    average_rating|     rating_number|             price|         parent_asin|\n",
      "+-------+--------------+--------------------+------------------+------------------+------------------+--------------------+\n",
      "|  count|         89651|               94327|             94327|             94327|             46726|               94327|\n",
      "|   mean|          NULL|  1.1113368793875E10| 4.118858857941276|136.36790102515715|  86.4799539034291|4.0776468745555553E9|\n",
      "| stddev|          NULL|3.142601103602334E10|0.8640397544170938| 977.5160999553573|325.31839674168475| 3.745278366512328E9|\n",
      "|    min|AMAZON FASHION|                    |               1.0|                 1|              0.01|          0967805929|\n",
      "|    max|   Video Games|𝟮𝟬𝟮𝟯𝙪𝙥𝙜𝙧?...|               5.0|             90203|          21095.62|          B0CKR66M1V|\n",
      "+-------+--------------+--------------------+------------------+------------------+------------------+--------------------+\n",
      "\n"
     ]
    },
    {
     "name": "stderr",
     "output_type": "stream",
     "text": [
      "                                                                                \r"
     ]
    }
   ],
   "source": [
    "print(f\"Appliance Metadata Statistical Summary\")\n",
    "df_meta.describe().show(truncate=True)"
   ]
  },
  {
   "cell_type": "markdown",
   "metadata": {},
   "source": [
    "---"
   ]
  },
  {
   "cell_type": "markdown",
   "metadata": {},
   "source": [
    "### Textual Data Exploration\n",
    "\n",
    "The main predictive feature of the model will likely be the `text` column in the Appliance Review dataset. It is important that we are able to understand its quality. We find answers to questions such as are the reviews too short or lone? Do they contain descriptive terms or just a few words? We also need to consider if there is text in different languages other than english.\n",
    "\n",
    "What we will do is start by analyzing the length of the reviews in terms of word count. This will help guide us in the direction we want. If the text is too short, maybe we need to rely more on ratings or metadata. If text is rich, a text-based sentiment analysis may just work well."
   ]
  },
  {
   "cell_type": "code",
   "execution_count": 150,
   "metadata": {},
   "outputs": [
    {
     "name": "stdout",
     "output_type": "stream",
     "text": [
      "Appliance Reviews with Word Count and Character Length Included\n",
      "+------+--------------------+--------------------+------------+----------+-----------+--------------------+----------------+----------+\n",
      "|rating|               title|                text|helpful_vote|      asin|parent_asin|           words_raw|character_length|word_count|\n",
      "+------+--------------------+--------------------+------------+----------+-----------+--------------------+----------------+----------+\n",
      "|   5.0|          Work great|work great. use a...|           0|B01N0TQ0OH| B01N0TQ0OH|[work, great., us...|              37|         8|\n",
      "|   5.0|   excellent product|Little on the thi...|           0|B07DD2DMXB| B07DD37QPZ|[little, on, the,...|              23|         5|\n",
      "|   5.0|     Happy customer!|Quick delivery, f...|           0|B082W3Z9YK| B082W3Z9YK|[quick, delivery,...|              32|         5|\n",
      "|   5.0|       Amazing value|I wasn't sure whe...|           0|B078W2BJY8| B078W2BJY8|[i, wasn't, sure,...|             299|        57|\n",
      "|   5.0|         Dryer parts|Easy to install g...|           0|B08C9LPCQV| B08C9LPCQV|[easy, to, instal...|              51|         9|\n",
      "|   5.0|DO NOT purchase t...|After buying this...|           0|B08D6RFV6D| B099ZKQJHK|[after, buying, t...|             166|        33|\n",
      "|   2.0|They don't fit pr...|Not the best quality|           0|B001TH7GZA| B001TH7H0O|[not, the, best, ...|              20|         4|\n",
      "|   5.0|          Five Stars|Part came quickly...|           0|B00AF7WZTM| B00AF7WZTM|[part, came, quic...|              47|        10|\n",
      "|   5.0|          Five Stars|Always arrive in ...|           0|B001H05AXY| B001H05AXY|[always, arrive, ...|              78|        14|\n",
      "|   2.0|Company is phenom...|The company respo...|           0|B085C6C7WH| B085C6C7WH|[the, company, re...|             125|        22|\n",
      "+------+--------------------+--------------------+------------+----------+-----------+--------------------+----------------+----------+\n",
      "only showing top 10 rows\n",
      "\n",
      "\n",
      "Summary Statistics for Appliance Reviews:\n"
     ]
    },
    {
     "name": "stderr",
     "output_type": "stream",
     "text": [
      "[Stage 49:====>                                                   (1 + 11) / 12]\r"
     ]
    },
    {
     "name": "stdout",
     "output_type": "stream",
     "text": [
      "+---------------+------------------+------------------+---------------+--------------+-----------------+-----------------+--------------+\n",
      "|min_char_length|   avg_char_length|stddev_char_length|max_char_length|min_word_count|   avg_word_count|stddev_word_count|max_word_count|\n",
      "+---------------+------------------+------------------+---------------+--------------+-----------------+-----------------+--------------+\n",
      "|             10|175.58352814723935|283.32226996999367|          30004|             1|33.16792796286858|53.12268670108261|          3740|\n",
      "+---------------+------------------+------------------+---------------+--------------+-----------------+-----------------+--------------+\n",
      "\n"
     ]
    },
    {
     "name": "stderr",
     "output_type": "stream",
     "text": [
      "                                                                                \r"
     ]
    }
   ],
   "source": [
    "# Fill null text fields and cast text to string\n",
    "df_reviews = df_reviews.fillna({\"text\": \"\"}).withColumn(\"text\", col(\"text\").cast(\"string\"))\n",
    "\n",
    "# Tokenize text and calculate character length and word count\n",
    "tokenizer = Tokenizer(inputCol=\"text\", outputCol=\"words_raw\")\n",
    "df_tokenizer_reviews = (\n",
    "    tokenizer\n",
    "    .transform(df_reviews)\n",
    "    .withColumn(\"character_length\", length(col(\"text\")))\n",
    "    .withColumn(\"word_count\", size(col(\"words_raw\")))\n",
    "    .filter(col(\"character_length\") > 9)\n",
    ")\n",
    "\n",
    "# Show summary statistics for word count and character length\n",
    "print(\"Appliance Reviews with Word Count and Character Length Included\")\n",
    "df_tokenizer_reviews.show(10, truncate=True)\n",
    "\n",
    "print(\"\\nSummary Statistics for Appliance Reviews:\")\n",
    "df_tokenizer_reviews.select(\n",
    "    min(\"character_length\").alias(\"min_char_length\"),\n",
    "    avg(\"character_length\").alias(\"avg_char_length\"),\n",
    "    stddev(\"character_length\").alias(\"stddev_char_length\"),\n",
    "    max(\"character_length\").alias(\"max_char_length\"),\n",
    "    min(\"word_count\").alias(\"min_word_count\"),\n",
    "    avg(\"word_count\").alias(\"avg_word_count\"),\n",
    "    stddev(\"word_count\").alias(\"stddev_word_count\"),\n",
    "    max(\"word_count\").alias(\"max_word_count\")\n",
    ").show()"
   ]
  },
  {
   "cell_type": "markdown",
   "metadata": {},
   "source": [
    "---"
   ]
  },
  {
   "cell_type": "markdown",
   "metadata": {},
   "source": [
    "### Data Cleaning\n",
    "\n",
    "It is important to remove the duplicate data and also empty data in the `text` column of the reviews data set. "
   ]
  },
  {
   "cell_type": "code",
   "execution_count": 151,
   "metadata": {},
   "outputs": [
    {
     "name": "stdout",
     "output_type": "stream",
     "text": [
      "Original Row Count: 2128605\n"
     ]
    },
    {
     "name": "stderr",
     "output_type": "stream",
     "text": [
      "[Stage 57:>                                                       (0 + 12) / 13]\r"
     ]
    },
    {
     "name": "stdout",
     "output_type": "stream",
     "text": [
      "Cleaned Row Count: 2099018\n"
     ]
    },
    {
     "name": "stderr",
     "output_type": "stream",
     "text": [
      "                                                                                \r"
     ]
    }
   ],
   "source": [
    "df_reviews_clean = df_reviews.dropDuplicates()\n",
    "\n",
    "df_reviews_clean = df_reviews_clean.filter(\n",
    "    (col(\"text\").isNotNull()) & (col(\"text\") != \"\")\n",
    ")\n",
    "\n",
    "print(\"Original Row Count:\", df_reviews.count())\n",
    "print(\"Cleaned Row Count:\", df_reviews_clean.count())\n"
   ]
  },
  {
   "cell_type": "code",
   "execution_count": 152,
   "metadata": {},
   "outputs": [
    {
     "name": "stdout",
     "output_type": "stream",
     "text": [
      "Cleaned Reviews Dataset:\n"
     ]
    },
    {
     "name": "stderr",
     "output_type": "stream",
     "text": [
      "[Stage 61:>                                                       (0 + 12) / 12]\r"
     ]
    },
    {
     "name": "stdout",
     "output_type": "stream",
     "text": [
      "+------+--------------------+--------------------+------------+----------+-----------+\n",
      "|rating|               title|                text|helpful_vote|      asin|parent_asin|\n",
      "+------+--------------------+--------------------+------------+----------+-----------+\n",
      "|   5.0|Easy setup and wo...|I love how easy t...|           0|B00UXG4WR8| B00UXG4WR8|\n",
      "|   5.0|              buy it|fit, look, & work...|           0|B001TH7GZU| B001TH7GZU|\n",
      "|   5.0|             Filters|Yep, got what I n...|           0|B07CV7VNL8| B07CV7VNL8|\n",
      "|   5.0|Flawless Version ...|We don't have any...|           2|B09649DDTN| B0C9TTZW3K|\n",
      "|   5.0|A great dish. A g...|The Apusafe MWF w...|           0|B0892F62TR| B0892F62TR|\n",
      "|   2.0|I wanted to love ...|I bought this to ...|           2|B08PYPQQ3Z| B08PYPQQ3Z|\n",
      "|   5.0|   Holds jumbo eggs!|This particular e...|           4|B01EVRIK2C| B07MBQW54M|\n",
      "|   5.0|    I have ice again|This solved my NO...|           0|B01GXOPMW2| B01GXOPMW2|\n",
      "|   5.0|Useful to rinse q...|Quinoa is too sma...|           0|B0001IRRLG| B0BHNSLKNZ|\n",
      "|   2.0|   a little too late|I personally don'...|           0|B00W8MO0UO| B0B6Y2D91L|\n",
      "+------+--------------------+--------------------+------------+----------+-----------+\n",
      "only showing top 10 rows\n",
      "\n"
     ]
    },
    {
     "name": "stderr",
     "output_type": "stream",
     "text": [
      "                                                                                \r"
     ]
    }
   ],
   "source": [
    "print(\"Cleaned Reviews Dataset:\")\n",
    "df_reviews_clean.show(10, truncate=True)"
   ]
  },
  {
   "cell_type": "markdown",
   "metadata": {},
   "source": [
    "---"
   ]
  },
  {
   "cell_type": "markdown",
   "metadata": {},
   "source": [
    "### Feature Engineering\n",
    "\n",
    "This step is similar to the ***Textual Data Exploration*** step, with the exception that it is performed on the cleaned data.\n",
    "\n",
    "This step is used to transform the `text` column of the reviews dataset into numerical features that a machine learning model can understand. We used ***TF-IDF (Term Frequency-Inverse Document Frequency)*** to represent the importance of words in each review while reducing the influence of commonly used words. This step involves tokenizing the text, removing stopwords, and applying TF-IDF transformation to create a feature vector for each review."
   ]
  },
  {
   "cell_type": "code",
   "execution_count": 153,
   "metadata": {},
   "outputs": [
    {
     "name": "stderr",
     "output_type": "stream",
     "text": [
      "[Stage 64:===================>                                     (4 + 8) / 12]\r"
     ]
    },
    {
     "name": "stdout",
     "output_type": "stream",
     "text": [
      "+------+--------------------+--------------------+------------+----------+-----------+--------------------+\n",
      "|rating|               title|                text|helpful_vote|      asin|parent_asin|           words_raw|\n",
      "+------+--------------------+--------------------+------------+----------+-----------+--------------------+\n",
      "|   5.0|Easy setup and wo...|I love how easy t...|           0|B00UXG4WR8| B00UXG4WR8|[i, love, how, ea...|\n",
      "|   5.0|              buy it|fit, look, & work...|           0|B001TH7GZU| B001TH7GZU|[fit,, look,, &, ...|\n",
      "|   5.0|             Filters|Yep, got what I n...|           0|B07CV7VNL8| B07CV7VNL8|[yep,, got, what,...|\n",
      "|   5.0|Flawless Version ...|We don't have any...|           2|B09649DDTN| B0C9TTZW3K|[we, don't, have,...|\n",
      "|   5.0|A great dish. A g...|The Apusafe MWF w...|           0|B0892F62TR| B0892F62TR|[the, apusafe, mw...|\n",
      "|   2.0|I wanted to love ...|I bought this to ...|           2|B08PYPQQ3Z| B08PYPQQ3Z|[i, bought, this,...|\n",
      "|   5.0|   Holds jumbo eggs!|This particular e...|           4|B01EVRIK2C| B07MBQW54M|[this, particular...|\n",
      "|   5.0|    I have ice again|This solved my NO...|           0|B01GXOPMW2| B01GXOPMW2|[this, solved, my...|\n",
      "|   5.0|Useful to rinse q...|Quinoa is too sma...|           0|B0001IRRLG| B0BHNSLKNZ|[quinoa, is, too,...|\n",
      "|   2.0|   a little too late|I personally don'...|           0|B00W8MO0UO| B0B6Y2D91L|[i, personally, d...|\n",
      "+------+--------------------+--------------------+------------+----------+-----------+--------------------+\n",
      "only showing top 10 rows\n",
      "\n"
     ]
    },
    {
     "name": "stderr",
     "output_type": "stream",
     "text": [
      "                                                                                \r"
     ]
    }
   ],
   "source": [
    "# Remove HTML tags from the 'text' column using regexp_replace\n",
    "df_reviews_clean = df_reviews_clean.withColumn(\n",
    "    \"text\", regexp_replace(col(\"text\"), \"<[^>]+>\", \"\")  # Remove anything between < and >\n",
    ")\n",
    "\n",
    "# Tokenization - Split the 'text' column into individual words\n",
    "tokenizer = Tokenizer(inputCol=\"text\", outputCol=\"words_raw\")\n",
    "df_reviews_tokenized = tokenizer.transform(df_reviews_clean)\n",
    "\n",
    "df_reviews_tokenized.show(10, truncate=True)"
   ]
  },
  {
   "cell_type": "code",
   "execution_count": 154,
   "metadata": {},
   "outputs": [
    {
     "name": "stderr",
     "output_type": "stream",
     "text": [
      "[Stage 67:====>                                                   (1 + 11) / 12]\r"
     ]
    },
    {
     "name": "stdout",
     "output_type": "stream",
     "text": [
      "+------+--------------------+--------------------+------------+----------+-----------+--------------------+--------------------+\n",
      "|rating|               title|                text|helpful_vote|      asin|parent_asin|           words_raw|       words_cleaned|\n",
      "+------+--------------------+--------------------+------------+----------+-----------+--------------------+--------------------+\n",
      "|   5.0|Easy setup and wo...|I love how easy t...|           0|B00UXG4WR8| B00UXG4WR8|[i, love, how, ea...|[love, easy, filt...|\n",
      "|   5.0|              buy it|fit, look, & work...|           0|B001TH7GZU| B001TH7GZU|[fit,, look,, &, ...|[fit,, look,, &, ...|\n",
      "|   5.0|             Filters|Yep, got what I n...|           0|B07CV7VNL8| B07CV7VNL8|[yep,, got, what,...|[yep,, got, needed.]|\n",
      "|   5.0|Flawless Version ...|We don't have any...|           2|B09649DDTN| B0C9TTZW3K|[we, don't, have,...|[ice, maker, free...|\n",
      "|   5.0|A great dish. A g...|The Apusafe MWF w...|           0|B0892F62TR| B0892F62TR|[the, apusafe, mw...|[apusafe, mwf, wa...|\n",
      "|   2.0|I wanted to love ...|I bought this to ...|           2|B08PYPQQ3Z| B08PYPQQ3Z|[i, bought, this,...|[bought, take, ex...|\n",
      "|   5.0|   Holds jumbo eggs!|This particular e...|           4|B01EVRIK2C| B07MBQW54M|[this, particular...|[particular, egg,...|\n",
      "|   5.0|    I have ice again|This solved my NO...|           0|B01GXOPMW2| B01GXOPMW2|[this, solved, my...|[solved, ice, pro...|\n",
      "|   5.0|Useful to rinse q...|Quinoa is too sma...|           0|B0001IRRLG| B0BHNSLKNZ|[quinoa, is, too,...|[quinoa, small, r...|\n",
      "|   2.0|   a little too late|I personally don'...|           0|B00W8MO0UO| B0B6Y2D91L|[i, personally, d...|[personally, drin...|\n",
      "+------+--------------------+--------------------+------------+----------+-----------+--------------------+--------------------+\n",
      "only showing top 10 rows\n",
      "\n"
     ]
    },
    {
     "name": "stderr",
     "output_type": "stream",
     "text": [
      "                                                                                \r"
     ]
    }
   ],
   "source": [
    "# Stopwords Removal - Remove common words like \"the\", \"and\", etc.\n",
    "stopwords_remover = StopWordsRemover(inputCol=\"words_raw\", outputCol=\"words_cleaned\")\n",
    "df_reviews_cleaned_words = stopwords_remover.transform(df_reviews_tokenized)\n",
    "\n",
    "df_reviews_cleaned_words.show(10, truncate=True)\n"
   ]
  },
  {
   "cell_type": "code",
   "execution_count": 155,
   "metadata": {},
   "outputs": [
    {
     "name": "stderr",
     "output_type": "stream",
     "text": [
      "[Stage 77:==========================================>              (9 + 3) / 12]\r"
     ]
    },
    {
     "name": "stdout",
     "output_type": "stream",
     "text": [
      "+------+--------------------+--------------------+------------+----------+-----------+--------------------+--------------------+--------------------+\n",
      "|rating|               title|                text|helpful_vote|      asin|parent_asin|           words_raw|       words_cleaned|        raw_features|\n",
      "+------+--------------------+--------------------+------------+----------+-----------+--------------------+--------------------+--------------------+\n",
      "|   5.0|Easy setup and wo...|I love how easy t...|           0|B00UXG4WR8| B00UXG4WR8|[i, love, how, ea...|[love, easy, filt...|(5000,[2,9,26,31,...|\n",
      "|   5.0|              buy it|fit, look, & work...|           0|B001TH7GZU| B001TH7GZU|[fit,, look,, &, ...|[fit,, look,, &, ...|(5000,[1,16,155,5...|\n",
      "|   5.0|             Filters|Yep, got what I n...|           0|B07CV7VNL8| B07CV7VNL8|[yep,, got, what,...|[yep,, got, needed.]|(5000,[41,310],[1...|\n",
      "|   5.0|Flawless Version ...|We don't have any...|           2|B09649DDTN| B0C9TTZW3K|[we, don't, have,...|[ice, maker, free...|(5000,[0,3,5,7,10...|\n",
      "|   5.0|A great dish. A g...|The Apusafe MWF w...|           0|B0892F62TR| B0892F62TR|[the, apusafe, mw...|[apusafe, mwf, wa...|(5000,[5,6,14,21,...|\n",
      "|   2.0|I wanted to love ...|I bought this to ...|           2|B08PYPQQ3Z| B08PYPQQ3Z|[i, bought, this,...|[bought, take, ex...|(5000,[3,7,11,13,...|\n",
      "|   5.0|   Holds jumbo eggs!|This particular e...|           4|B01EVRIK2C| B07MBQW54M|[this, particular...|[particular, egg,...|(5000,[0,39,41,49...|\n",
      "|   5.0|    I have ice again|This solved my NO...|           0|B01GXOPMW2| B01GXOPMW2|[this, solved, my...|[solved, ice, pro...|(5000,[2,3,4,7,10...|\n",
      "|   5.0|Useful to rinse q...|Quinoa is too sma...|           0|B0001IRRLG| B0BHNSLKNZ|[quinoa, is, too,...|[quinoa, small, r...|(5000,[11,61,102,...|\n",
      "|   2.0|   a little too late|I personally don'...|           0|B00W8MO0UO| B0B6Y2D91L|[i, personally, d...|[personally, drin...|(5000,[0,6,12,16,...|\n",
      "+------+--------------------+--------------------+------------+----------+-----------+--------------------+--------------------+--------------------+\n",
      "only showing top 10 rows\n",
      "\n"
     ]
    },
    {
     "name": "stderr",
     "output_type": "stream",
     "text": [
      "                                                                                \r"
     ]
    }
   ],
   "source": [
    "# CountVectorizer - Convert words into a term frequency vector\n",
    "count_vectorizer = CountVectorizer(inputCol=\"words_cleaned\", outputCol=\"raw_features\", vocabSize=5000)\n",
    "cv_model = count_vectorizer.fit(df_reviews_cleaned_words)\n",
    "df_reviews_vectorized = cv_model.transform(df_reviews_cleaned_words)\n",
    "\n",
    "df_reviews_vectorized.show(10, truncate=True)"
   ]
  },
  {
   "cell_type": "code",
   "execution_count": 156,
   "metadata": {},
   "outputs": [
    {
     "name": "stderr",
     "output_type": "stream",
     "text": [
      "[Stage 84:=========>                                              (2 + 10) / 12]\r"
     ]
    },
    {
     "name": "stdout",
     "output_type": "stream",
     "text": [
      "+------+--------------------+--------------------+------------+----------+-----------+--------------------+--------------------+--------------------+--------------------+\n",
      "|rating|               title|                text|helpful_vote|      asin|parent_asin|           words_raw|       words_cleaned|        raw_features|      tfidf_features|\n",
      "+------+--------------------+--------------------+------------+----------+-----------+--------------------+--------------------+--------------------+--------------------+\n",
      "|   5.0|Easy setup and wo...|I love how easy t...|           0|B00UXG4WR8| B00UXG4WR8|[i, love, how, ea...|[love, easy, filt...|(5000,[2,9,26,31,...|(5000,[2,9,26,31,...|\n",
      "|   5.0|              buy it|fit, look, & work...|           0|B001TH7GZU| B001TH7GZU|[fit,, look,, &, ...|[fit,, look,, &, ...|(5000,[1,16,155,5...|(5000,[1,16,155,5...|\n",
      "|   5.0|             Filters|Yep, got what I n...|           0|B07CV7VNL8| B07CV7VNL8|[yep,, got, what,...|[yep,, got, needed.]|(5000,[41,310],[1...|(5000,[41,310],[3...|\n",
      "|   5.0|Flawless Version ...|We don't have any...|           2|B09649DDTN| B0C9TTZW3K|[we, don't, have,...|[ice, maker, free...|(5000,[0,3,5,7,10...|(5000,[0,3,5,7,10...|\n",
      "|   5.0|A great dish. A g...|The Apusafe MWF w...|           0|B0892F62TR| B0892F62TR|[the, apusafe, mw...|[apusafe, mwf, wa...|(5000,[5,6,14,21,...|(5000,[5,6,14,21,...|\n",
      "|   2.0|I wanted to love ...|I bought this to ...|           2|B08PYPQQ3Z| B08PYPQQ3Z|[i, bought, this,...|[bought, take, ex...|(5000,[3,7,11,13,...|(5000,[3,7,11,13,...|\n",
      "|   5.0|   Holds jumbo eggs!|This particular e...|           4|B01EVRIK2C| B07MBQW54M|[this, particular...|[particular, egg,...|(5000,[0,39,41,49...|(5000,[0,39,41,49...|\n",
      "|   5.0|    I have ice again|This solved my NO...|           0|B01GXOPMW2| B01GXOPMW2|[this, solved, my...|[solved, ice, pro...|(5000,[2,3,4,7,10...|(5000,[2,3,4,7,10...|\n",
      "|   5.0|Useful to rinse q...|Quinoa is too sma...|           0|B0001IRRLG| B0BHNSLKNZ|[quinoa, is, too,...|[quinoa, small, r...|(5000,[11,61,102,...|(5000,[11,61,102,...|\n",
      "|   2.0|   a little too late|I personally don'...|           0|B00W8MO0UO| B0B6Y2D91L|[i, personally, d...|[personally, drin...|(5000,[0,6,12,16,...|(5000,[0,6,12,16,...|\n",
      "+------+--------------------+--------------------+------------+----------+-----------+--------------------+--------------------+--------------------+--------------------+\n",
      "only showing top 10 rows\n",
      "\n"
     ]
    },
    {
     "name": "stderr",
     "output_type": "stream",
     "text": [
      "                                                                                \r"
     ]
    }
   ],
   "source": [
    "# TF-IDF - Apply Inverse Document Frequency to weigh word importance\n",
    "idf = IDF(inputCol=\"raw_features\", outputCol=\"tfidf_features\")\n",
    "idf_model = idf.fit(df_reviews_vectorized)\n",
    "df_reviews_final = idf_model.transform(df_reviews_vectorized)\n",
    "\n",
    "df_reviews_final.show(10, truncate=True)"
   ]
  },
  {
   "cell_type": "code",
   "execution_count": 157,
   "metadata": {},
   "outputs": [
    {
     "name": "stdout",
     "output_type": "stream",
     "text": [
      "Reviews Dataset with TF-IDF Features:\n"
     ]
    },
    {
     "name": "stderr",
     "output_type": "stream",
     "text": [
      "[Stage 87:======================================>                  (8 + 4) / 12]\r"
     ]
    },
    {
     "name": "stdout",
     "output_type": "stream",
     "text": [
      "+------------------------------------------------------------------------------------------------------------------------------------------------------------------------------------------------------------------------------------------------------------------------------------------------------------------------------------------------------------------------------------------------------------------------------------------------------------------------------------------------------------------------------------------------------------------------------------------------------------------------------------------------------------------------------------------------------------------------------------------------------------------------------------------------------------------------------------------------------------------------------------------------------------------------------------------------------------------------------------------------------------------------------------------------------------------------------------------------------------------------------------------------------------------------------------------------------------------------------------------------------------------------------------------------------------------------------------------------------------------------------------------------------------------------------------------------------------------------------------------------------------------------------------------------------------------------------------------------------------------------------------------------------------------------------------------------------------------------------------------------------------------------------------------------------------------------------------------------------------------------------------------------------------------------------------------------------------------------------------------------------------------------------------------------------------------------------------------------------------------------------------------------------------------------------------------------------------------------------------------------------------------------------------------------------------------------------------------------------------------------------------------------------------------------------------------------------------------------------------------------------------------------------------------------------------------------------------------------------------------------------------------------------------------------------------------------------------------------------------------------------------------------------------------------------------------------------------------------------------------------------------------------------------------------------------------------------------------------------------------------------------------------------------------------------------------------------------------------------------------------------------------------------------------------------------------------------------------------------------------------------------------------------------------------------------------------------------------------------------------------------------------------------------------------------------------------------------------------------------------------------------------------------------------------------------------------------------------------------------------------------------------------------------------------------------------------------------------------------------------------------------------------------------------------------------------------------------------------------------------------------------------------------------------------------------------------------------------------------------------------------------------------------------------------------------------------------------------------------------------------------------------------------------------------------------------------------------------------------------------------------------------------------------------------------------------------------------------------------------------------------------------------------------------------------------------------------------------------------------------------------------------------------------------------------------------------------------------------------------------------------------------------------------------------------------------------------------------------------------------------------------------------------------------------------------------------------------------------+------------------------------------------------------------------------------------------------------------------------------------------------------------------------------------------------------------------------------------------------------------------------------------------------------------------------------------------------------------------------------------------------------------------------------------------------------------------------------------------------------------------------------------------------------------------------------------------------------------------------------------------------------------------------------------------------------------------------------------------------------------------------------------------------------------------------------------------------------------------------------------------------------------------------------------------------------------------------------------------------------------------------------------------------------------------------------------------------------------------------------------------------------------------------------------------------------------------------------------------------------------------------------------------------------------------------------------------------------------------------------------------------------------------------------------------------------------------------------------------------------------------------------------------------------------------------------------------------------------------------------------------------------------------------------------------------------------------------------------------------------------------------------------------------------------------------------------------------------------------------------------------------------------------------------------------------------------------------------------------------------------------------------------------------------------------------------------------------------------------------------------------------------------------------------------------------------------------------------------------------------------------------------------------------------------------------------------------------------------------------------------------------------------------------------------------------------------------------------------------------------------------------------------------------------------------------------------------------------------------------------------------------------------------------------------------------------------------------------------------------------------------------------------------------------------------------------------------------------------------------------------------------------------------------------------------------------------------------------------------------------------------------------------------------------------------------------------------------------------------------------------------------------------------------------------------------------------------------------------------------------------------------------------------------------------------------------------------------------------------------------------------------------------------------------------------------------------------------------------------------------------------------------------------------------------------------------------------------------------------------------------------------------------------------------------------------------------------------------------------------------------------------------------------------------------------------------------------------------------------------------------------------------------------------------------------------------------------------------------------------------------------------------------------------------------------------------------------------------------------------------------------------------------------------------------------------------------------------------------------------------------------------------------------------------------------------------------------------------------------------------------------------------------------------------------------------------------------------------+\n",
      "|text                                                                                                                                                                                                                                                                                                                                                                                                                                                                                                                                                                                                                                                                                                                                                                                                                                                                                                                                                                                                                                                                                                                                                                                                                                                                                                                                                                                                                                                                                                                                                                                                                                                                                                                                                                                                                                                                                                                                                                                                                                                                                                                                                                                                                                                                                                                                                                                                                                                                                                                                                                                                                                                                                                                                                                                                                                                                                                                                                                                                                                                                                                                                                                                                                                                                                                                                                                                                                                                                                                                                                                                                                                                                                                                                                                                                                                                                                                                                                                                                                                                                                                                                                                                                                                                                                                                                                                                                                                                                                                                                                                                                                                                                                                                                                                                                                                            |tfidf_features                                                                                                                                                                                                                                                                                                                                                                                                                                                                                                                                                                                                                                                                                                                                                                                                                                                                                                                                                                                                                                                                                                                                                                                                                                                                                                                                                                                                                                                                                                                                                                                                                                                                                                                                                                                                                                                                                                                                                                                                                                                                                                                                                                                                                                                                                                                                                                                                                                                                                                                                                                                                                                                                                                                                                                                                                                                                                                                                                                                                                                                                                                                                                                                                                                                                                                                                                                                                                                                                                                                                                                                                                                                                                                                                                                                                                                                                                                                                                                                                                                                                                                                                                                                                                                                                                                                                                                                                                                                                |\n",
      "+------------------------------------------------------------------------------------------------------------------------------------------------------------------------------------------------------------------------------------------------------------------------------------------------------------------------------------------------------------------------------------------------------------------------------------------------------------------------------------------------------------------------------------------------------------------------------------------------------------------------------------------------------------------------------------------------------------------------------------------------------------------------------------------------------------------------------------------------------------------------------------------------------------------------------------------------------------------------------------------------------------------------------------------------------------------------------------------------------------------------------------------------------------------------------------------------------------------------------------------------------------------------------------------------------------------------------------------------------------------------------------------------------------------------------------------------------------------------------------------------------------------------------------------------------------------------------------------------------------------------------------------------------------------------------------------------------------------------------------------------------------------------------------------------------------------------------------------------------------------------------------------------------------------------------------------------------------------------------------------------------------------------------------------------------------------------------------------------------------------------------------------------------------------------------------------------------------------------------------------------------------------------------------------------------------------------------------------------------------------------------------------------------------------------------------------------------------------------------------------------------------------------------------------------------------------------------------------------------------------------------------------------------------------------------------------------------------------------------------------------------------------------------------------------------------------------------------------------------------------------------------------------------------------------------------------------------------------------------------------------------------------------------------------------------------------------------------------------------------------------------------------------------------------------------------------------------------------------------------------------------------------------------------------------------------------------------------------------------------------------------------------------------------------------------------------------------------------------------------------------------------------------------------------------------------------------------------------------------------------------------------------------------------------------------------------------------------------------------------------------------------------------------------------------------------------------------------------------------------------------------------------------------------------------------------------------------------------------------------------------------------------------------------------------------------------------------------------------------------------------------------------------------------------------------------------------------------------------------------------------------------------------------------------------------------------------------------------------------------------------------------------------------------------------------------------------------------------------------------------------------------------------------------------------------------------------------------------------------------------------------------------------------------------------------------------------------------------------------------------------------------------------------------------------------------------------------------------------+------------------------------------------------------------------------------------------------------------------------------------------------------------------------------------------------------------------------------------------------------------------------------------------------------------------------------------------------------------------------------------------------------------------------------------------------------------------------------------------------------------------------------------------------------------------------------------------------------------------------------------------------------------------------------------------------------------------------------------------------------------------------------------------------------------------------------------------------------------------------------------------------------------------------------------------------------------------------------------------------------------------------------------------------------------------------------------------------------------------------------------------------------------------------------------------------------------------------------------------------------------------------------------------------------------------------------------------------------------------------------------------------------------------------------------------------------------------------------------------------------------------------------------------------------------------------------------------------------------------------------------------------------------------------------------------------------------------------------------------------------------------------------------------------------------------------------------------------------------------------------------------------------------------------------------------------------------------------------------------------------------------------------------------------------------------------------------------------------------------------------------------------------------------------------------------------------------------------------------------------------------------------------------------------------------------------------------------------------------------------------------------------------------------------------------------------------------------------------------------------------------------------------------------------------------------------------------------------------------------------------------------------------------------------------------------------------------------------------------------------------------------------------------------------------------------------------------------------------------------------------------------------------------------------------------------------------------------------------------------------------------------------------------------------------------------------------------------------------------------------------------------------------------------------------------------------------------------------------------------------------------------------------------------------------------------------------------------------------------------------------------------------------------------------------------------------------------------------------------------------------------------------------------------------------------------------------------------------------------------------------------------------------------------------------------------------------------------------------------------------------------------------------------------------------------------------------------------------------------------------------------------------------------------------------------------------------------------------------------------------------------------------------------------------------------------------------------------------------------------------------------------------------------------------------------------------------------------------------------------------------------------------------------------------------------------------------------------------------------------------------------------------------------------------------------------------------------------------------+\n",
      "|I love how easy this filter replacement is! It takes only a few moments with almost no clean up!! Very happy with the purchase!                                                                                                                                                                                                                                                                                                                                                                                                                                                                                                                                                                                                                                                                                                                                                                                                                                                                                                                                                                                                                                                                                                                                                                                                                                                                                                                                                                                                                                                                                                                                                                                                                                                                                                                                                                                                                                                                                                                                                                                                                                                                                                                                                                                                                                                                                                                                                                                                                                                                                                                                                                                                                                                                                                                                                                                                                                                                                                                                                                                                                                                                                                                                                                                                                                                                                                                                                                                                                                                                                                                                                                                                                                                                                                                                                                                                                                                                                                                                                                                                                                                                                                                                                                                                                                                                                                                                                                                                                                                                                                                                                                                                                                                                                                                 |(5000,[2,9,26,31,55,79,245,300,1836],[2.0005821742513694,2.7252524246114924,3.0353432451190416,3.071724474218577,3.4926887892306064,3.698097044400429,4.463616816957099,4.676864084478404,6.6826218259614105])                                                                                                                                                                                                                                                                                                                                                                                                                                                                                                                                                                                                                                                                                                                                                                                                                                                                                                                                                                                                                                                                                                                                                                                                                                                                                                                                                                                                                                                                                                                                                                                                                                                                                                                                                                                                                                                                                                                                                                                                                                                                                                                                                                                                                                                                                                                                                                                                                                                                                                                                                                                                                                                                                                                                                                                                                                                                                                                                                                                                                                                                                                                                                                                                                                                                                                                                                                                                                                                                                                                                                                                                                                                                                                                                                                                                                                                                                                                                                                                                                                                                                                                                                                                                                                                                |\n",
      "|fit, look, & work great                                                                                                                                                                                                                                                                                                                                                                                                                                                                                                                                                                                                                                                                                                                                                                                                                                                                                                                                                                                                                                                                                                                                                                                                                                                                                                                                                                                                                                                                                                                                                                                                                                                                                                                                                                                                                                                                                                                                                                                                                                                                                                                                                                                                                                                                                                                                                                                                                                                                                                                                                                                                                                                                                                                                                                                                                                                                                                                                                                                                                                                                                                                                                                                                                                                                                                                                                                                                                                                                                                                                                                                                                                                                                                                                                                                                                                                                                                                                                                                                                                                                                                                                                                                                                                                                                                                                                                                                                                                                                                                                                                                                                                                                                                                                                                                                                         |(5000,[1,16,155,515,4446],[1.9698209757809537,2.814754627733114,4.4268755880294535,5.182312985293433,7.942255050487531])                                                                                                                                                                                                                                                                                                                                                                                                                                                                                                                                                                                                                                                                                                                                                                                                                                                                                                                                                                                                                                                                                                                                                                                                                                                                                                                                                                                                                                                                                                                                                                                                                                                                                                                                                                                                                                                                                                                                                                                                                                                                                                                                                                                                                                                                                                                                                                                                                                                                                                                                                                                                                                                                                                                                                                                                                                                                                                                                                                                                                                                                                                                                                                                                                                                                                                                                                                                                                                                                                                                                                                                                                                                                                                                                                                                                                                                                                                                                                                                                                                                                                                                                                                                                                                                                                                                                                      |\n",
      "|Yep, got what I needed.                                                                                                                                                                                                                                                                                                                                                                                                                                                                                                                                                                                                                                                                                                                                                                                                                                                                                                                                                                                                                                                                                                                                                                                                                                                                                                                                                                                                                                                                                                                                                                                                                                                                                                                                                                                                                                                                                                                                                                                                                                                                                                                                                                                                                                                                                                                                                                                                                                                                                                                                                                                                                                                                                                                                                                                                                                                                                                                                                                                                                                                                                                                                                                                                                                                                                                                                                                                                                                                                                                                                                                                                                                                                                                                                                                                                                                                                                                                                                                                                                                                                                                                                                                                                                                                                                                                                                                                                                                                                                                                                                                                                                                                                                                                                                                                                                         |(5000,[41,310],[3.3622377036212283,4.6347694841570615])                                                                                                                                                                                                                                                                                                                                                                                                                                                                                                                                                                                                                                                                                                                                                                                                                                                                                                                                                                                                                                                                                                                                                                                                                                                                                                                                                                                                                                                                                                                                                                                                                                                                                                                                                                                                                                                                                                                                                                                                                                                                                                                                                                                                                                                                                                                                                                                                                                                                                                                                                                                                                                                                                                                                                                                                                                                                                                                                                                                                                                                                                                                                                                                                                                                                                                                                                                                                                                                                                                                                                                                                                                                                                                                                                                                                                                                                                                                                                                                                                                                                                                                                                                                                                                                                                                                                                                                                                       |\n",
      "|We don't have any ice maker in our freezer and no place for trays.  So, this is the solution.  We run it all the time.  It actually saves on soda and other beverages with the children.  The ice cubes are not rock hard.  It is more like shaved ice in cube form.With Spring already here and Summer quickly coming all our drinks now have ice.  The phone APP is ok for time settings, but I just leave this run.We had a smaller Ice maker that took up less counter space, but it didn't keep the ice as cold as this one.  So, the ice would melt quickly and the machine had to keep running.  This one seems more energy efficient.  The side water tank makes this a no hassle ice machine.Trust you found this review honest and helpful:-)                                                                                                                                                                                                                                                                                                                                                                                                                                                                                                                                                                                                                                                                                                                                                                                                                                                                                                                                                                                                                                                                                                                                                                                                                                                                                                                                                                                                                                                                                                                                                                                                                                                                                                                                                                                                                                                                                                                                                                                                                                                                                                                                                                                                                                                                                                                                                                                                                                                                                                                                                                                                                                                                                                                                                                                                                                                                                                                                                                                                                                                                                                                                                                                                                                                                                                                                                                                                                                                                                                                                                                                                                                                                                                                                                                                                                                                                                                                                                                                                                                                                                         |(5000,[0,3,5,7,10,23,36,65,75,80,88,89,104,114,157,162,173,180,229,230,248,251,282,335,338,379,398,410,433,539,547,594,657,664,755,1161,1202,1251,1349,1469,1488,1497,1785,1822,2364,2481,2499,2570,2999,3035,3462,3691,4041,4739],[13.95811514200683,2.291159060755906,2.532537801276672,2.3548507676438897,21.36602293453717,3.0254297215978982,3.459843394152302,3.5849964333916775,3.688259832767994,7.72435238764595,3.766651774506297,7.583866281975026,3.8875137589455484,3.920236176667342,4.110442327094436,4.159833979311083,4.418144334402592,4.4855663174788845,4.451818361456607,4.461303722162859,4.528712381257858,8.92979916920072,4.690416452259761,4.883409533756803,4.757299266880753,4.886497609316249,4.96226262293743,4.991907219013718,5.2062698258678335,5.261288611615606,5.302719091657181,5.387253961600406,5.481086375268032,11.111268813849799,5.915448185019447,6.319501362077658,6.226358030358424,6.270459277010056,6.312646602835197,6.526571088560807,6.52527027536925,6.434609407284739,6.685669447367886,6.797793212183496,7.026500655445755,7.098217958310332,7.147844206771164,7.45119452121002,7.352831358655353,7.489660802037816,7.620637914857242,7.646229862729356,7.815279956039237,8.089281924586938])                                                                                                                                                                                                                                                                                                                                                                                                                                                                                                                                                                                                                                                                                                                                                                                                                                                                                                                                                                                                                                                                                                                                                                                                                                                                                                                                                                                                                                                                                                                                                                                                                                                                                                                                                                                                                                                                                                                                                                                                                                                                                                                                                                                                                                                                                                                                                                                                                                                                                                                                                                                                                                                                                                                                                                                                                                                                                                                                                                                                                                                                                                                                                                                                                           |\n",
      "|The Apusafe MWF water filters fit my GE fridge perfectly. Usually I get these from my local home improvement store, however, I will order them on Amazon from now on. Why? You get two for the price of one. This two pack costs $26 on Amazon and I usually pay around $40 for just one.                                                                                                                                                                                                                                                                                                                                                                                                                                                                                                                                                                                                                                                                                                                                                                                                                                                                                                                                                                                                                                                                                                                                                                                                                                                                                                                                                                                                                                                                                                                                                                                                                                                                                                                                                                                                                                                                                                                                                                                                                                                                                                                                                                                                                                                                                                                                                                                                                                                                                                                                                                                                                                                                                                                                                                                                                                                                                                                                                                                                                                                                                                                                                                                                                                                                                                                                                                                                                                                                                                                                                                                                                                                                                                                                                                                                                                                                                                                                                                                                                                                                                                                                                                                                                                                                                                                                                                                                                                                                                                                                                       |(5000,[5,6,14,21,29,47,68,118,122,127,133,162,170,264,313,344,432,457,487,671,1281,1654,2562,2852,2853],[2.532537801276672,2.2415514841779456,5.515317879179479,3.0864096038027635,3.0097793707572915,6.957136253275781,3.757997085537714,3.8900039565389717,8.045400318684388,4.149239019772212,4.016413749864903,8.319667958622166,4.2584824479508585,4.5747743434437735,4.67338972986962,4.778376280301854,4.995912987046279,5.077758835727045,5.17740396146981,11.063772214052621,6.265183545642558,6.551947306054182,7.147844206771164,7.295755558719371,7.448736510959751])                                                                                                                                                                                                                                                                                                                                                                                                                                                                                                                                                                                                                                                                                                                                                                                                                                                                                                                                                                                                                                                                                                                                                                                                                                                                                                                                                                                                                                                                                                                                                                                                                                                                                                                                                                                                                                                                                                                                                                                                                                                                                                                                                                                                                                                                                                                                                                                                                                                                                                                                                                                                                                                                                                                                                                                                                                                                                                                                                                                                                                                                                                                                                                                                                                                                                                                                                                                                                                                                                                                                                                                                                                                                                                                                                                                                                                                                                             |\n",
      "|I bought this to take on an extended cruise with me. I knew that it didn’t hold very much and accepted that. It doesn’t hold much, but it washes a lot less than it holds. Just one pair of thin Capri pants was too much for it. It would start to wash it and then it would quit and start beeping. Even T-shirts and underwear wouldn’t wash most of the time without setting off the limit alarm. And then when you actually got something washed, and you tried to use the spin cycle, all the stuff would fly out of the spin basket. The basket needs a lid. It also needs to be bigger. I ended up wrapping rubber bands around it to keep the clothes in but that’s kind of ridiculous at the price point for this item. Another annoyance is the fact that the lid won’t stay on when you store it vertically. I don’t know how difficult it would’ve been to make the lid snap into place, but that would’ve been a big help as it rattles a lot when the machine is working as well. Like I said, I loved the idea but the actual product does not meet expectations.                                                                                                                                                                                                                                                                                                                                                                                                                                                                                                                                                                                                                                                                                                                                                                                                                                                                                                                                                                                                                                                                                                                                                                                                                                                                                                                                                                                                                                                                                                                                                                                                                                                                                                                                                                                                                                                                                                                                                                                                                                                                                                                                                                                                                                                                                                                                                                                                                                                                                                                                                                                                                                                                                                                                                                                                                                                                                                                                                                                                                                                                                                                                                                                                                                                                                                                                                                                                                                                                                                                                                                                                                                                                                                                                                               |(5000,[3,7,11,13,22,23,25,28,29,34,36,39,41,54,59,75,89,91,103,105,106,128,131,141,153,170,174,185,199,219,229,253,291,306,316,330,345,362,375,401,405,415,417,425,548,579,584,590,605,630,652,663,684,695,707,760,827,857,871,936,1032,1055,1162,1166,1200,1224,1367,1510,1690,1912,2238,2275,2294,2770,2975,3446,3981,4305,4453],[2.291159060755906,2.3548507676438897,2.6095880646539493,2.623721169746781,5.971591423207704,3.0254297215978982,3.034550498706817,3.0577383750293525,3.0097793707572915,3.185538108133206,3.459843394152302,3.362388924039022,3.3622377036212283,3.438090859369514,3.5438584462053186,3.688259832767994,3.791933140987513,3.7547962346820567,7.746135818976316,3.898169559168543,3.886979291599237,4.007699613978689,4.020733067610314,4.392668479873265,4.151930241668358,4.2584824479508585,4.246029987384326,9.010404823486043,4.3966053408767936,4.411527792600366,4.451818361456607,9.037487395207098,4.666679659959339,4.684313195495051,9.940933350484688,4.749838813941849,4.81624734945659,5.056885356102398,10.079782287092204,9.820386865996433,4.912782096105727,4.943644884507872,4.953990267653788,10.066142370622963,5.300329375851859,5.35396705410157,5.3542693058796,5.4816584903931975,5.3877748220736645,5.426874671425715,5.481887428123135,5.51790320815233,5.519447243140478,5.5696588378411676,5.680715390736601,5.692233989785883,5.7617012804967205,5.796214026449336,5.824353551030898,5.892747716625739,6.025884554106063,6.064285090875455,6.211287777437426,6.144703629224614,6.1774416245738495,6.193638184093315,6.3733040680706345,6.539343490782814,6.583480686666662,6.816751125928111,6.9495992250515,7.019017990923084,6.996379487922735,7.257859187980492,7.3543194541680545,7.647227369046481,7.8611817336328,7.9449396158582,16.008945527313404])                                                                                                                                                                                                                                                                                                                                                                                                                                                                                                                                                                                                                                                                                                                                                                                                                                                                                                                                                                                                                                                                                                                                                                                                                                                                                                                                                                                                                                                                                                                                                                                                                                                                                                                                                                                                                                                                                                                                                                                                                                                                                                                                                                                                                                                                                                                                                                                                                                                                                                                                                                                                                                                  |\n",
      "|This particular egg holder holds even jumbo size eggs.  I was very happy with that.  Now I can see when I'm low on eggs with opening a carton.  Also, I can see which end the eggs are in so I don't drop the carton if the eggs left are in the far end.  Because of the sturdy top, I can stack other items on top without worry that it my crack the tops of eggs in the styrofoam containers my eggs come in from the store.  I always wondered why folks got these instead of using the store container.  Now I understand and recommend this one.                                                                                                                                                                                                                                                                                                                                                                                                                                                                                                                                                                                                                                                                                                                                                                                                                                                                                                                                                                                                                                                                                                                                                                                                                                                                                                                                                                                                                                                                                                                                                                                                                                                                                                                                                                                                                                                                                                                                                                                                                                                                                                                                                                                                                                                                                                                                                                                                                                                                                                                                                                                                                                                                                                                                                                                                                                                                                                                                                                                                                                                                                                                                                                                                                                                                                                                                                                                                                                                                                                                                                                                                                                                                                                                                                                                                                                                                                                                                                                                                                                                                                                                                                                                                                                                                                         |(5000,[0,39,41,49,71,76,79,106,112,115,121,139,162,217,306,332,333,399,404,454,462,463,464,630,658,774,803,816,828,1000,1108,1234,1364,1402,1601,1777,1993,2407,2585,2782,2797,2834,3693,4517],[9.30541009467122,3.362388924039022,3.3622377036212283,3.452113653681827,3.62592936387158,3.8080755759248013,3.698097044400429,3.886979291599237,7.895550520842733,3.9670684633560453,3.9362876525021475,4.056691633381903,4.159833979311083,4.397340393234009,4.684313195495051,4.73758147853745,4.8197838378765905,4.950686930979541,26.628309361649585,5.147215814021492,5.055763315366809,5.074554193887884,5.121658418127259,5.426874671425715,5.492244252573901,5.971194667809443,5.7522053918236065,5.865330077537902,5.727461555910514,5.987384780482006,6.067981193645837,6.214378970007099,6.343057055068549,6.4758148729658584,6.545957271504851,6.663035512455332,6.870818347198386,7.084479905953733,7.267370129240124,7.251120618007283,7.28945522286312,7.309900066105535,7.754585887366981,8.08000828780161])                                                                                                                                                                                                                                                                                                                                                                                                                                                                                                                                                                                                                                                                                                                                                                                                                                                                                                                                                                                                                                                                                                                                                                                                                                                                                                                                                                                                                                                                                                                                                                                                                                                                                                                                                                                                                                                                                                                                                                                                                                                                                                                                                                                                                                                                                                                                                                                                                                                                                                                                                                                                                                                                                                                                                                                                                                                                                                                                                                                                                                                                                                                                                                                                                                                                                                                                                                                                                                                  |\n",
      "|This solved my NO ICE problem in my LG Frig.It should be easy to install, but it is not because it is very difficult to reach in my Lower Freezer unit.If you are overweight, then you might want to leave this one to the pros as you just can't contort yourself into the needed position to install this.But once you get it in, it works just like new.                                                                                                                                                                                                                                                                                                                                                                                                                                                                                                                                                                                                                                                                                                                                                                                                                                                                                                                                                                                                                                                                                                                                                                                                                                                                                                                                                                                                                                                                                                                                                                                                                                                                                                                                                                                                                                                                                                                                                                                                                                                                                                                                                                                                                                                                                                                                                                                                                                                                                                                                                                                                                                                                                                                                                                                                                                                                                                                                                                                                                                                                                                                                                                                                                                                                                                                                                                                                                                                                                                                                                                                                                                                                                                                                                                                                                                                                                                                                                                                                                                                                                                                                                                                                                                                                                                                                                                                                                                                                                     |(5000,[2,3,4,7,10,14,32,63,119,151,180,238,315,385,415,534,594,629,765,850,1112,1638],[2.0005821742513694,2.291159060755906,2.0841380752900234,2.3548507676438897,3.052288990648167,2.7576589395897395,3.03433260357294,3.5206082155449576,3.9639273231789165,4.151294581089692,4.4855663174788845,4.642652074977289,4.63949157851935,4.910258067972223,4.943644884507872,5.318636082305511,5.387253961600406,5.414276927430921,5.661899118937124,5.754007194112869,6.1067823280993325,6.598054157641181])                                                                                                                                                                                                                                                                                                                                                                                                                                                                                                                                                                                                                                                                                                                                                                                                                                                                                                                                                                                                                                                                                                                                                                                                                                                                                                                                                                                                                                                                                                                                                                                                                                                                                                                                                                                                                                                                                                                                                                                                                                                                                                                                                                                                                                                                                                                                                                                                                                                                                                                                                                                                                                                                                                                                                                                                                                                                                                                                                                                                                                                                                                                                                                                                                                                                                                                                                                                                                                                                                                                                                                                                                                                                                                                                                                                                                                                                                                                                                                    |\n",
      "|Quinoa is too small to be rinsed in my other strainers. I use this to rinse quinoa. I wash in upper rack of dishwasher almost daily.                                                                                                                                                                                                                                                                                                                                                                                                                                                                                                                                                                                                                                                                                                                                                                                                                                                                                                                                                                                                                                                                                                                                                                                                                                                                                                                                                                                                                                                                                                                                                                                                                                                                                                                                                                                                                                                                                                                                                                                                                                                                                                                                                                                                                                                                                                                                                                                                                                                                                                                                                                                                                                                                                                                                                                                                                                                                                                                                                                                                                                                                                                                                                                                                                                                                                                                                                                                                                                                                                                                                                                                                                                                                                                                                                                                                                                                                                                                                                                                                                                                                                                                                                                                                                                                                                                                                                                                                                                                                                                                                                                                                                                                                                                            |(5000,[11,61,102,185,245,490,523,1305,2896,3155],[2.6095880646539493,3.582783151084029,4.04827589819016,4.505202411743022,4.463616816957099,5.276181815066548,5.46756574664399,6.399610209504518,7.307765593576903,7.461916273404161])                                                                                                                                                                                                                                                                                                                                                                                                                                                                                                                                                                                                                                                                                                                                                                                                                                                                                                                                                                                                                                                                                                                                                                                                                                                                                                                                                                                                                                                                                                                                                                                                                                                                                                                                                                                                                                                                                                                                                                                                                                                                                                                                                                                                                                                                                                                                                                                                                                                                                                                                                                                                                                                                                                                                                                                                                                                                                                                                                                                                                                                                                                                                                                                                                                                                                                                                                                                                                                                                                                                                                                                                                                                                                                                                                                                                                                                                                                                                                                                                                                                                                                                                                                                                                                        |\n",
      "|I personally don't drink coffee but my Mom has 2 of these that she used before I bought this order and I assumed since she was using them, they were okay.  But apparently they don't work well with the Keurig and she had a very difficult time getting them to fit in the spot for the pod.  So these have been returned.  Sorry ANF Distribution but I got your email after this item was already returned and I'm not sure what you could have done to fix the issue if the pods did not fit, but thank you.                                                                                                                                                                                                                                                                                                                                                                                                                                                                                                                                                                                                                                                                                                                                                                                                                                                                                                                                                                                                                                                                                                                                                                                                                                                                                                                                                                                                                                                                                                                                                                                                                                                                                                                                                                                                                                                                                                                                                                                                                                                                                                                                                                                                                                                                                                                                                                                                                                                                                                                                                                                                                                                                                                                                                                                                                                                                                                                                                                                                                                                                                                                                                                                                                                                                                                                                                                                                                                                                                                                                                                                                                                                                                                                                                                                                                                                                                                                                                                                                                                                                                                                                                                                                                                                                                                                               |(5000,[0,6,12,16,20,23,28,35,41,49,50,69,92,97,133,134,158,175,237,267,338,411,415,474,513,515,699,716,843,1345,1396,1459,1854,1943,2264,2369,2985,3192,3219],[4.65270504733561,2.2415514841779456,2.876128405044784,2.814754627733114,2.917484210698428,3.0254297215978982,3.0577383750293525,3.198430890864619,3.3622377036212283,3.452113653681827,3.4763777479991105,3.6208425651648133,3.8271270738089957,3.8476200925433757,4.016413749864903,4.141897770687083,4.140639532054936,4.252906537498107,4.427872616966061,4.57987095828455,4.757299266880753,4.9441796796272435,4.943644884507872,5.307804254929911,5.197875505449997,5.182312985293433,5.537558682734582,5.619630802423901,5.771594063407136,6.328803754739972,6.366348969787753,6.533755965974622,6.741370118656102,6.842303176890365,6.978835178271826,7.018485651277826,7.357302305000119,7.458605012100505,7.4694069451333185])                                                                                                                                                                                                                                                                                                                                                                                                                                                                                                                                                                                                                                                                                                                                                                                                                                                                                                                                                                                                                                                                                                                                                                                                                                                                                                                                                                                                                                                                                                                                                                                                                                                                                                                                                                                                                                                                                                                                                                                                                                                                                                                                                                                                                                                                                                                                                                                                                                                                                                                                                                                                                                                                                                                                                                                                                                                                                                                                                                                                                                                                                                                                                                                                                                                                                                                                                                                                                                                                                                                                                                        |\n",
      "|It was cheap and I got it delivered pretty fast. Great replacement filter!                                                                                                                                                                                                                                                                                                                                                                                                                                                                                                                                                                                                                                                                                                                                                                                                                                                                                                                                                                                                                                                                                                                                                                                                                                                                                                                                                                                                                                                                                                                                                                                                                                                                                                                                                                                                                                                                                                                                                                                                                                                                                                                                                                                                                                                                                                                                                                                                                                                                                                                                                                                                                                                                                                                                                                                                                                                                                                                                                                                                                                                                                                                                                                                                                                                                                                                                                                                                                                                                                                                                                                                                                                                                                                                                                                                                                                                                                                                                                                                                                                                                                                                                                                                                                                                                                                                                                                                                                                                                                                                                                                                                                                                                                                                                                                      |(5000,[1,31,41,165,278,419,726,2117],[1.9698209757809537,3.071724474218577,3.3622377036212283,4.2168846832782405,4.588970202139664,4.939110636558065,5.585151307160441,6.883757529569583])                                                                                                                                                                                                                                                                                                                                                                                                                                                                                                                                                                                                                                                                                                                                                                                                                                                                                                                                                                                                                                                                                                                                                                                                                                                                                                                                                                                                                                                                                                                                                                                                                                                                                                                                                                                                                                                                                                                                                                                                                                                                                                                                                                                                                                                                                                                                                                                                                                                                                                                                                                                                                                                                                                                                                                                                                                                                                                                                                                                                                                                                                                                                                                                                                                                                                                                                                                                                                                                                                                                                                                                                                                                                                                                                                                                                                                                                                                                                                                                                                                                                                                                                                                                                                                                                                    |\n",
      "|Great product! Great price! Fast shipping!                                                                                                                                                                                                                                                                                                                                                                                                                                                                                                                                                                                                                                                                                                                                                                                                                                                                                                                                                                                                                                                                                                                                                                                                                                                                                                                                                                                                                                                                                                                                                                                                                                                                                                                                                                                                                                                                                                                                                                                                                                                                                                                                                                                                                                                                                                                                                                                                                                                                                                                                                                                                                                                                                                                                                                                                                                                                                                                                                                                                                                                                                                                                                                                                                                                                                                                                                                                                                                                                                                                                                                                                                                                                                                                                                                                                                                                                                                                                                                                                                                                                                                                                                                                                                                                                                                                                                                                                                                                                                                                                                                                                                                                                                                                                                                                                      |(5000,[1,108,604,687,2703],[3.9396419515619074,3.8580149864977566,5.369397265837725,5.509983076911283,7.201978729586036])                                                                                                                                                                                                                                                                                                                                                                                                                                                                                                                                                                                                                                                                                                                                                                                                                                                                                                                                                                                                                                                                                                                                                                                                                                                                                                                                                                                                                                                                                                                                                                                                                                                                                                                                                                                                                                                                                                                                                                                                                                                                                                                                                                                                                                                                                                                                                                                                                                                                                                                                                                                                                                                                                                                                                                                                                                                                                                                                                                                                                                                                                                                                                                                                                                                                                                                                                                                                                                                                                                                                                                                                                                                                                                                                                                                                                                                                                                                                                                                                                                                                                                                                                                                                                                                                                                                                                     |\n",
      "|Good supply for the money. Seem well made and good fit.                                                                                                                                                                                                                                                                                                                                                                                                                                                                                                                                                                                                                                                                                                                                                                                                                                                                                                                                                                                                                                                                                                                                                                                                                                                                                                                                                                                                                                                                                                                                                                                                                                                                                                                                                                                                                                                                                                                                                                                                                                                                                                                                                                                                                                                                                                                                                                                                                                                                                                                                                                                                                                                                                                                                                                                                                                                                                                                                                                                                                                                                                                                                                                                                                                                                                                                                                                                                                                                                                                                                                                                                                                                                                                                                                                                                                                                                                                                                                                                                                                                                                                                                                                                                                                                                                                                                                                                                                                                                                                                                                                                                                                                                                                                                                                                         |(5000,[8,20,53,202,283,305,1047],[4.660143197346675,2.917484210698428,3.4540103591020928,4.328985004460474,4.56772833119437,4.659611779163341,6.086040843792516])                                                                                                                                                                                                                                                                                                                                                                                                                                                                                                                                                                                                                                                                                                                                                                                                                                                                                                                                                                                                                                                                                                                                                                                                                                                                                                                                                                                                                                                                                                                                                                                                                                                                                                                                                                                                                                                                                                                                                                                                                                                                                                                                                                                                                                                                                                                                                                                                                                                                                                                                                                                                                                                                                                                                                                                                                                                                                                                                                                                                                                                                                                                                                                                                                                                                                                                                                                                                                                                                                                                                                                                                                                                                                                                                                                                                                                                                                                                                                                                                                                                                                                                                                                                                                                                                                                             |\n",
      "|cheap solid replacement filters. Always fast from amazon                                                                                                                                                                                                                                                                                                                                                                                                                                                                                                                                                                                                                                                                                                                                                                                                                                                                                                                                                                                                                                                                                                                                                                                                                                                                                                                                                                                                                                                                                                                                                                                                                                                                                                                                                                                                                                                                                                                                                                                                                                                                                                                                                                                                                                                                                                                                                                                                                                                                                                                                                                                                                                                                                                                                                                                                                                                                                                                                                                                                                                                                                                                                                                                                                                                                                                                                                                                                                                                                                                                                                                                                                                                                                                                                                                                                                                                                                                                                                                                                                                                                                                                                                                                                                                                                                                                                                                                                                                                                                                                                                                                                                                                                                                                                                                                        |(5000,[31,108,122,196,217,278,766],[3.071724474218577,3.8580149864977566,4.022700159342194,4.342521836475433,4.397340393234009,4.588970202139664,5.6740338514031174])                                                                                                                                                                                                                                                                                                                                                                                                                                                                                                                                                                                                                                                                                                                                                                                                                                                                                                                                                                                                                                                                                                                                                                                                                                                                                                                                                                                                                                                                                                                                                                                                                                                                                                                                                                                                                                                                                                                                                                                                                                                                                                                                                                                                                                                                                                                                                                                                                                                                                                                                                                                                                                                                                                                                                                                                                                                                                                                                                                                                                                                                                                                                                                                                                                                                                                                                                                                                                                                                                                                                                                                                                                                                                                                                                                                                                                                                                                                                                                                                                                                                                                                                                                                                                                                                                                         |\n",
      "|Small pans fit, large pan half inch too large.                                                                                                                                                                                                                                                                                                                                                                                                                                                                                                                                                                                                                                                                                                                                                                                                                                                                                                                                                                                                                                                                                                                                                                                                                                                                                                                                                                                                                                                                                                                                                                                                                                                                                                                                                                                                                                                                                                                                                                                                                                                                                                                                                                                                                                                                                                                                                                                                                                                                                                                                                                                                                                                                                                                                                                                                                                                                                                                                                                                                                                                                                                                                                                                                                                                                                                                                                                                                                                                                                                                                                                                                                                                                                                                                                                                                                                                                                                                                                                                                                                                                                                                                                                                                                                                                                                                                                                                                                                                                                                                                                                                                                                                                                                                                                                                                  |(5000,[61,241,256,515,710,751,1132,3357],[3.582783151084029,4.52444047024055,4.509869058072288,5.182312985293433,5.699750156489345,5.853805941649613,6.326403433544837,7.519953036005016])                                                                                                                                                                                                                                                                                                                                                                                                                                                                                                                                                                                                                                                                                                                                                                                                                                                                                                                                                                                                                                                                                                                                                                                                                                                                                                                                                                                                                                                                                                                                                                                                                                                                                                                                                                                                                                                                                                                                                                                                                                                                                                                                                                                                                                                                                                                                                                                                                                                                                                                                                                                                                                                                                                                                                                                                                                                                                                                                                                                                                                                                                                                                                                                                                                                                                                                                                                                                                                                                                                                                                                                                                                                                                                                                                                                                                                                                                                                                                                                                                                                                                                                                                                                                                                                                                    |\n",
      "|This is a great product it fits my vacuum perfectly and clean well too!                                                                                                                                                                                                                                                                                                                                                                                                                                                                                                                                                                                                                                                                                                                                                                                                                                                                                                                                                                                                                                                                                                                                                                                                                                                                                                                                                                                                                                                                                                                                                                                                                                                                                                                                                                                                                                                                                                                                                                                                                                                                                                                                                                                                                                                                                                                                                                                                                                                                                                                                                                                                                                                                                                                                                                                                                                                                                                                                                                                                                                                                                                                                                                                                                                                                                                                                                                                                                                                                                                                                                                                                                                                                                                                                                                                                                                                                                                                                                                                                                                                                                                                                                                                                                                                                                                                                                                                                                                                                                                                                                                                                                                                                                                                                                                         |(5000,[1,13,20,46,55,57,1386,1406],[1.9698209757809537,2.623721169746781,2.917484210698428,3.326922202515076,3.4926887892306064,3.423647889661835,6.483577681704887,6.3542242690356545])                                                                                                                                                                                                                                                                                                                                                                                                                                                                                                                                                                                                                                                                                                                                                                                                                                                                                                                                                                                                                                                                                                                                                                                                                                                                                                                                                                                                                                                                                                                                                                                                                                                                                                                                                                                                                                                                                                                                                                                                                                                                                                                                                                                                                                                                                                                                                                                                                                                                                                                                                                                                                                                                                                                                                                                                                                                                                                                                                                                                                                                                                                                                                                                                                                                                                                                                                                                                                                                                                                                                                                                                                                                                                                                                                                                                                                                                                                                                                                                                                                                                                                                                                                                                                                                                                      |\n",
      "|I read the reviews and therefore was cautious, I got it and it just didn't seem right, not the size, not the colors , not the box it came in... Decided I am not going to risk it, especially since we also use this water to make baby bottles, returned it, and went to get a genuine one from a local store                                                                                                                                                                                                                                                                                                                                                                                                                                                                                                                                                                                                                                                                                                                                                                                                                                                                                                                                                                                                                                                                                                                                                                                                                                                                                                                                                                                                                                                                                                                                                                                                                                                                                                                                                                                                                                                                                                                                                                                                                                                                                                                                                                                                                                                                                                                                                                                                                                                                                                                                                                                                                                                                                                                                                                                                                                                                                                                                                                                                                                                                                                                                                                                                                                                                                                                                                                                                                                                                                                                                                                                                                                                                                                                                                                                                                                                                                                                                                                                                                                                                                                                                                                                                                                                                                                                                                                                                                                                                                                                                  |(5000,[3,5,11,14,34,41,44,59,97,124,161,172,231,284,305,306,327,355,378,457,513,571,926,1303,1858,1953,2044,2282,2411],[2.291159060755906,2.532537801276672,2.6095880646539493,2.7576589395897395,3.185538108133206,3.3622377036212283,3.3552788667558784,3.5438584462053186,3.8476200925433757,3.98090583156058,4.172735006011568,8.520471066309488,4.519880458831244,4.650597295043138,4.659611779163341,4.684313195495051,4.7611339896725555,4.8229774061476265,5.030735247319588,5.077758835727045,5.197875505449997,5.329488219897543,5.959867836099181,6.267190067509648,6.803786380806951,6.77960704803343,6.834303134223289,7.004218566477144,7.087326477759164])                                                                                                                                                                                                                                                                                                                                                                                                                                                                                                                                                                                                                                                                                                                                                                                                                                                                                                                                                                                                                                                                                                                                                                                                                                                                                                                                                                                                                                                                                                                                                                                                                                                                                                                                                                                                                                                                                                                                                                                                                                                                                                                                                                                                                                                                                                                                                                                                                                                                                                                                                                                                                                                                                                                                                                                                                                                                                                                                                                                                                                                                                                                                                                                                                                                                                                                                                                                                                                                                                                                                                                                                                                                                                                                                                                                                     |\n",
      "|It works perfectly without having to remove the pod basket and replace it like you have to with a My K Cup. My only complaint was it’s very expensive for a little piece of plastic. However, my coffee is delicious, it fits well and holds the right amount of coffee.                                                                                                                                                                                                                                                                                                                                                                                                                                                                                                                                                                                                                                                                                                                                                                                                                                                                                                                                                                                                                                                                                                                                                                                                                                                                                                                                                                                                                                                                                                                                                                                                                                                                                                                                                                                                                                                                                                                                                                                                                                                                                                                                                                                                                                                                                                                                                                                                                                                                                                                                                                                                                                                                                                                                                                                                                                                                                                                                                                                                                                                                                                                                                                                                                                                                                                                                                                                                                                                                                                                                                                                                                                                                                                                                                                                                                                                                                                                                                                                                                                                                                                                                                                                                                                                                                                                                                                                                                                                                                                                                                                        |(5000,[4,7,12,20,27,46,56,57,58,70,106,191,197,218,261,313,347,362,463,485,536,544,1025,1042],[2.0841380752900234,2.3548507676438897,2.876128405044784,2.917484210698428,3.097656404476268,3.326922202515076,3.478923358198544,3.423647889661835,3.49916232073071,3.7881378299607618,3.886979291599237,4.285833704782898,4.379466336526384,4.493843280625626,4.584993681730472,4.67338972986962,4.8099714849916,5.056885356102398,5.074554193887884,5.342449074096641,5.561939676006269,5.320193108700261,5.986815574508949,5.988904248960485])                                                                                                                                                                                                                                                                                                                                                                                                                                                                                                                                                                                                                                                                                                                                                                                                                                                                                                                                                                                                                                                                                                                                                                                                                                                                                                                                                                                                                                                                                                                                                                                                                                                                                                                                                                                                                                                                                                                                                                                                                                                                                                                                                                                                                                                                                                                                                                                                                                                                                                                                                                                                                                                                                                                                                                                                                                                                                                                                                                                                                                                                                                                                                                                                                                                                                                                                                                                                                                                                                                                                                                                                                                                                                                                                                                                                                                                                                                                               |\n",
      "|I am regretting that I bought this Bosch B26FT70 French door refrigerator with bottom freezer from a non-amazon.com seller (appliancesconnection.com).  This expensive appliance started making a loud humming noise intermittently, within 1 week after installation.  When I called the warranty service the tech takes a whole 8 days to arrive just to tell me that he cannot hear anything wrong with the fridge and leaves.  Called back for warranty service and was told that a specialist would look at it.  Meanwhile the steel trim on the large shelve came off due to shoddy manufacturing.By now it is almost another week later and the specialist comes in and validates that the evaporator motor is defective.  He is going to order the part and put it in when it arrives.  And he said that the shelf has to be replaced because of the trim problem.This whole experience tells me that Bosch is just resting on its laurels.  Their product is simply shoddy with multiple problems.  Bosch's service is slow and unresponsive.  They should not be expecting a customer of a premium appliance, specially a refrigerator that is so essential for today's household, to wait for weeks for warranty repairs on a brand new appliance.I will update this and let you know how long it finally took to get these issues resolved.My advice is to AVOID, AVOID, AVOID this shoddy product.  My old inexpensive GE worked better for years, just threw it out only because we wanted matching appliances.Update on Feb 18, 2013,*********************The saga continues, as per my previous review, this refrigerator started failing almost from the get-go.After numerous problems with loud rattles and falling off trim continued, now the fridge stopped cooling and is completely dead. I used to be a fan of Bosch, but I honestly cannot recommend this \"top of the line\" fridge to even my worst enemy.Bosch's service is another story, this fridge spoiled my food thrice due to misdiagnosis and refusal to take care of the issue. The fridge is currently non-operational for over a week. It takes several days for Bosch's service reps to even come and misdiagnose the issue. These so called experts have repeatedly misdiagnosed the problems. At this point I have an expensive boat anchor in my kitchen.Feel free to buy it if you can afford to live without your primary fridge for weeks at a time. I used to be a fan of Bosch, but I honestly cannot recommend this \"top of the line\" fridge to even my worst enemy.It takes several days for Bosch's service reps to even come and diagnose the issue. These so called experts have repeatedly misdiagnosed the problems. At this point I have an expensive boat anchor in my kitchen.Bosch's service is another story, this fridge spoiled my food thrice due to misdiagnosis and refusal to take care of the issue. The fridge is currently non-operational for over a week.Feel free to buy it if you can afford to live without your primary fridge for weeks at a time.Update on June 8, 2013************************The nightmare continues.  This expensive mistake stopped working again.  Our first clue to a problem was the big puddle of water in the refrigerator trays and shelves.  The puddles were from the melting ice from the ice maker.  We soon realized that the refrigerator is not cooling and not operational.  Another $150 of spilt food, thanks to Bosch! Called Bosch service again and went through the rigmarole of providing a dated receipt for the 3rd time -based on the number of times I had to call Bosch, I think they should know me and my fridge on a first name basis by now!The Bosch agent gave the contact information of local Bosch authorized service companies.  Frankly I am dreading this call to the local service companies based on my previous experience with these guys.  In my opinion the technicians are incompetent and unprofessional since it takes them multiple attempts to identify the real problem all the while I am sitting without a fridge and forced to pay high bills for restaurant food.  Also, in my previous attempt to repair the fridge, the tech neglected to order the necessary part making us sit with this boat anchor for an additional few days.During my previous repair incident in Feb 2013, I asked Bosch to replace or refund the cost of the fridge since.  Bosch was very unsympathetic to my request.  Today,  I have requested Bosch to replace my dead fridge again and I am waiting to hear from them.  Question for the consumer lawyers amongst you:  I feel cheated by Bosch, what are my options, legal and otherwise?Update on June 15, 2013************************Week 2 and the fridge still not fixed. Bosch does not even bother!|(5000,[0,5,10,13,14,17,18,19,23,25,28,30,33,35,38,39,40,44,48,50,51,52,54,56,68,71,72,88,97,98,100,101,105,106,107,117,119,120,124,127,128,131,133,136,139,146,156,157,160,161,163,174,180,191,192,194,208,209,216,222,223,225,227,232,240,241,242,245,262,290,300,304,307,309,312,319,331,340,342,344,348,359,360,368,374,376,384,387,390,391,393,400,403,412,420,422,431,457,460,465,475,522,528,531,535,562,567,570,572,583,610,631,635,658,662,663,667,668,682,721,728,745,773,782,815,819,824,832,881,896,902,925,937,970,984,986,992,1019,1030,1074,1175,1238,1267,1288,1353,1365,1398,1451,1480,1485,1551,1567,1624,1643,1694,1830,2058,2063,2103,2208,2360,2378,2398,2449,2465,2480,2576,2615,2628,2686,2712,2733,2768,2769,2824,2897,2992,3167,3203,3383,3454,3505,3529,3564,3647,3747,3831,3879,4214,4620,4824,4957],[35.670738696239674,2.532537801276672,6.104577981296334,2.623721169746781,2.7576589395897395,2.9734476185571106,6.12327775335676,2.8695306132293332,3.0254297215978982,3.034550498706817,3.0577383750293525,6.101857509328471,3.2006154328921204,6.396861781729238,3.396880406505048,16.81194462019511,3.3248675752372225,3.3552788667558784,3.4633657006512806,3.4763777479991105,3.4546735490700287,6.952786312876626,3.438090859369514,6.957846716397088,56.369956283065704,7.25185872774316,18.842742824821364,3.766651774506297,3.8476200925433757,3.7852168313827685,3.793032251241679,3.850975950540876,15.592678236674171,11.66093787479771,4.142677474439173,3.9617468985108464,7.927854646357833,3.9460239680876694,3.98090583156058,4.149239019772212,8.015399227957378,8.041466135220627,8.032827499729805,4.031466050098344,8.113383266763806,8.231486414902626,4.229729761765624,4.110442327094436,4.1843335750668125,4.172735006011568,4.1949612691103075,4.246029987384326,4.4855663174788845,17.143334819131592,44.17867769338898,8.839452350407646,8.758172505806824,8.771287806914206,4.440884848756337,4.411174567454913,4.404214073236329,8.90167601853658,9.454602230599775,13.355332482763725,4.455749409473686,4.52444047024055,4.5019314813466265,8.927233633914199,4.526684251291468,4.656748390875836,18.707456337913616,4.782861738496446,4.720969263280078,4.6684544632953235,14.053713161178077,4.701213834366576,4.751878000076565,4.8560989982518254,4.846471235137647,4.778376280301854,4.824815369490749,4.808102216382583,5.128308284398122,9.673149887791054,4.926746433954824,9.724604755572443,14.665368678824148,4.885488209192691,4.894864267743694,4.902339146821746,4.899521522006832,4.954868497738947,4.922615145086034,4.919935667614525,4.97860016369768,4.96062985844108,5.014176063491435,10.15551767145409,10.228519044096835,5.177657286360335,15.88100518184701,5.244173947170619,21.0816810112148,10.514879266513613,10.709143298082779,5.441170762561343,5.368170397265472,5.351753328101932,27.25001395855131,10.85374934285143,5.462163369970648,5.650993885454862,5.474246403320255,5.492244252573901,21.981489330062033,11.03580641630466,5.536228171501109,5.5190907157138005,16.532422874787066,11.216010085699033,11.230085472869867,5.663957156296581,5.656704302060021,5.6740338514031174,11.490060946302624,11.56595410098072,5.845537331615826,5.829688621481653,5.816164023123994,5.905081756422763,5.871395808014598,5.898114300958909,5.9003734034923765,11.904285898846016,5.956733904139769,5.943931973631533,5.982273553074448,5.968397463188381,5.9930947312830725,6.054292145477936,6.13190274818286,6.2490281054202725,59.00666279558889,12.560154338848468,6.328269851897605,6.355594695452684,6.357241690060506,13.131453441702186,6.4236867894686585,19.520745683325977,13.149128607727116,6.541653341669573,6.527873596071556,13.113933114026441,6.6735342965535525,6.700661079284704,6.831650612774157,13.705238965561959,6.881898792974958,6.9651189358013585,7.031340675649756,7.052038582295121,7.060883305515336,7.106319854479753,14.257294913000973,7.110979152367172,7.161259042089247,7.195605221713943,7.184234284286964,7.233150084488975,7.23051503685097,7.2351309369029355,7.27078893598891,7.250449251751787,7.2859721124103,7.307765593576903,7.373868948948011,14.918863600152998,7.533221695952848,7.550285423854251,7.749045706991366,7.577835375622482,7.606165882248708,7.669428079026674,7.6542379135326994,7.6714709806564745,7.728268579049607,7.765759187965106,7.884947705230225,8.156723205382471,8.133733687157772,8.145162382981395])|\n",
      "|Did not work in my keurig despite claiming that it would. Returned.                                                                                                                                                                                                                                                                                                                                                                                                                                                                                                                                                                                                                                                                                                                                                                                                                                                                                                                                                                                                                                                                                                                                                                                                                                                                                                                                                                                                                                                                                                                                                                                                                                                                                                                                                                                                                                                                                                                                                                                                                                                                                                                                                                                                                                                                                                                                                                                                                                                                                                                                                                                                                                                                                                                                                                                                                                                                                                                                                                                                                                                                                                                                                                                                                                                                                                                                                                                                                                                                                                                                                                                                                                                                                                                                                                                                                                                                                                                                                                                                                                                                                                                                                                                                                                                                                                                                                                                                                                                                                                                                                                                                                                                                                                                                                                             |(5000,[16,134,1306,2009,2369],[2.814754627733114,4.141897770687083,6.2828786483989605,6.806796488433455,7.018485651277826])                                                                                                                                                                                                                                                                                                                                                                                                                                                                                                                                                                                                                                                                                                                                                                                                                                                                                                                                                                                                                                                                                                                                                                                                                                                                                                                                                                                                                                                                                                                                                                                                                                                                                                                                                                                                                                                                                                                                                                                                                                                                                                                                                                                                                                                                                                                                                                                                                                                                                                                                                                                                                                                                                                                                                                                                                                                                                                                                                                                                                                                                                                                                                                                                                                                                                                                                                                                                                                                                                                                                                                                                                                                                                                                                                                                                                                                                                                                                                                                                                                                                                                                                                                                                                                                                                                                                                   |\n",
      "+------------------------------------------------------------------------------------------------------------------------------------------------------------------------------------------------------------------------------------------------------------------------------------------------------------------------------------------------------------------------------------------------------------------------------------------------------------------------------------------------------------------------------------------------------------------------------------------------------------------------------------------------------------------------------------------------------------------------------------------------------------------------------------------------------------------------------------------------------------------------------------------------------------------------------------------------------------------------------------------------------------------------------------------------------------------------------------------------------------------------------------------------------------------------------------------------------------------------------------------------------------------------------------------------------------------------------------------------------------------------------------------------------------------------------------------------------------------------------------------------------------------------------------------------------------------------------------------------------------------------------------------------------------------------------------------------------------------------------------------------------------------------------------------------------------------------------------------------------------------------------------------------------------------------------------------------------------------------------------------------------------------------------------------------------------------------------------------------------------------------------------------------------------------------------------------------------------------------------------------------------------------------------------------------------------------------------------------------------------------------------------------------------------------------------------------------------------------------------------------------------------------------------------------------------------------------------------------------------------------------------------------------------------------------------------------------------------------------------------------------------------------------------------------------------------------------------------------------------------------------------------------------------------------------------------------------------------------------------------------------------------------------------------------------------------------------------------------------------------------------------------------------------------------------------------------------------------------------------------------------------------------------------------------------------------------------------------------------------------------------------------------------------------------------------------------------------------------------------------------------------------------------------------------------------------------------------------------------------------------------------------------------------------------------------------------------------------------------------------------------------------------------------------------------------------------------------------------------------------------------------------------------------------------------------------------------------------------------------------------------------------------------------------------------------------------------------------------------------------------------------------------------------------------------------------------------------------------------------------------------------------------------------------------------------------------------------------------------------------------------------------------------------------------------------------------------------------------------------------------------------------------------------------------------------------------------------------------------------------------------------------------------------------------------------------------------------------------------------------------------------------------------------------------------------------------------------------------------+------------------------------------------------------------------------------------------------------------------------------------------------------------------------------------------------------------------------------------------------------------------------------------------------------------------------------------------------------------------------------------------------------------------------------------------------------------------------------------------------------------------------------------------------------------------------------------------------------------------------------------------------------------------------------------------------------------------------------------------------------------------------------------------------------------------------------------------------------------------------------------------------------------------------------------------------------------------------------------------------------------------------------------------------------------------------------------------------------------------------------------------------------------------------------------------------------------------------------------------------------------------------------------------------------------------------------------------------------------------------------------------------------------------------------------------------------------------------------------------------------------------------------------------------------------------------------------------------------------------------------------------------------------------------------------------------------------------------------------------------------------------------------------------------------------------------------------------------------------------------------------------------------------------------------------------------------------------------------------------------------------------------------------------------------------------------------------------------------------------------------------------------------------------------------------------------------------------------------------------------------------------------------------------------------------------------------------------------------------------------------------------------------------------------------------------------------------------------------------------------------------------------------------------------------------------------------------------------------------------------------------------------------------------------------------------------------------------------------------------------------------------------------------------------------------------------------------------------------------------------------------------------------------------------------------------------------------------------------------------------------------------------------------------------------------------------------------------------------------------------------------------------------------------------------------------------------------------------------------------------------------------------------------------------------------------------------------------------------------------------------------------------------------------------------------------------------------------------------------------------------------------------------------------------------------------------------------------------------------------------------------------------------------------------------------------------------------------------------------------------------------------------------------------------------------------------------------------------------------------------------------------------------------------------------------------------------------------------------------------------------------------------------------------------------------------------------------------------------------------------------------------------------------------------------------------------------------------------------------------------------------------------------------------------------------------------------------------------------------------------------------------------------------------------------------------------------------------------------+\n",
      "only showing top 20 rows\n",
      "\n"
     ]
    },
    {
     "name": "stderr",
     "output_type": "stream",
     "text": [
      "                                                                                \r"
     ]
    }
   ],
   "source": [
    "# Output Verification\n",
    "print(\"Reviews Dataset with TF-IDF Features:\")\n",
    "df_reviews_final.select(\"text\", \"tfidf_features\").show(truncate=False)"
   ]
  },
  {
   "cell_type": "markdown",
   "metadata": {},
   "source": [
    "---"
   ]
  },
  {
   "cell_type": "markdown",
   "metadata": {},
   "source": [
    "### Experiment Setup\n",
    "\n",
    "For the sentiment analysis task, we focused on predicting whether a given review is favorable (positive sentiment) or unfavorable (negative sentiment). We began by creating a binary label based on the rating column, where ratings ≥ 4 are considered favorable, and ratings < 4 are unfavorable. For quick experimentation, we’ll use Logistic Regression, a simple and effective model for text classification."
   ]
  },
  {
   "cell_type": "code",
   "execution_count": 158,
   "metadata": {},
   "outputs": [
    {
     "name": "stderr",
     "output_type": "stream",
     "text": [
      "[Stage 90:============================>                            (6 + 6) / 12]\r"
     ]
    },
    {
     "name": "stdout",
     "output_type": "stream",
     "text": [
      "+------+--------------------+--------------------+------------+----------+-----------+--------------------+--------------------+--------------------+--------------------+-----+\n",
      "|rating|               title|                text|helpful_vote|      asin|parent_asin|           words_raw|       words_cleaned|        raw_features|      tfidf_features|label|\n",
      "+------+--------------------+--------------------+------------+----------+-----------+--------------------+--------------------+--------------------+--------------------+-----+\n",
      "|   5.0|Easy setup and wo...|I love how easy t...|           0|B00UXG4WR8| B00UXG4WR8|[i, love, how, ea...|[love, easy, filt...|(5000,[2,9,26,31,...|(5000,[2,9,26,31,...|    1|\n",
      "|   5.0|              buy it|fit, look, & work...|           0|B001TH7GZU| B001TH7GZU|[fit,, look,, &, ...|[fit,, look,, &, ...|(5000,[1,16,155,5...|(5000,[1,16,155,5...|    1|\n",
      "|   5.0|             Filters|Yep, got what I n...|           0|B07CV7VNL8| B07CV7VNL8|[yep,, got, what,...|[yep,, got, needed.]|(5000,[41,310],[1...|(5000,[41,310],[3...|    1|\n",
      "|   5.0|Flawless Version ...|We don't have any...|           2|B09649DDTN| B0C9TTZW3K|[we, don't, have,...|[ice, maker, free...|(5000,[0,3,5,7,10...|(5000,[0,3,5,7,10...|    1|\n",
      "|   5.0|A great dish. A g...|The Apusafe MWF w...|           0|B0892F62TR| B0892F62TR|[the, apusafe, mw...|[apusafe, mwf, wa...|(5000,[5,6,14,21,...|(5000,[5,6,14,21,...|    1|\n",
      "|   2.0|I wanted to love ...|I bought this to ...|           2|B08PYPQQ3Z| B08PYPQQ3Z|[i, bought, this,...|[bought, take, ex...|(5000,[3,7,11,13,...|(5000,[3,7,11,13,...|    0|\n",
      "|   5.0|   Holds jumbo eggs!|This particular e...|           4|B01EVRIK2C| B07MBQW54M|[this, particular...|[particular, egg,...|(5000,[0,39,41,49...|(5000,[0,39,41,49...|    1|\n",
      "|   5.0|    I have ice again|This solved my NO...|           0|B01GXOPMW2| B01GXOPMW2|[this, solved, my...|[solved, ice, pro...|(5000,[2,3,4,7,10...|(5000,[2,3,4,7,10...|    1|\n",
      "|   5.0|Useful to rinse q...|Quinoa is too sma...|           0|B0001IRRLG| B0BHNSLKNZ|[quinoa, is, too,...|[quinoa, small, r...|(5000,[11,61,102,...|(5000,[11,61,102,...|    1|\n",
      "|   2.0|   a little too late|I personally don'...|           0|B00W8MO0UO| B0B6Y2D91L|[i, personally, d...|[personally, drin...|(5000,[0,6,12,16,...|(5000,[0,6,12,16,...|    0|\n",
      "+------+--------------------+--------------------+------------+----------+-----------+--------------------+--------------------+--------------------+--------------------+-----+\n",
      "only showing top 10 rows\n",
      "\n"
     ]
    },
    {
     "name": "stderr",
     "output_type": "stream",
     "text": [
      "                                                                                \r"
     ]
    }
   ],
   "source": [
    "# Define the target label\n",
    "# Reviews with rating >= 4 are favorable (label=1), otherwise unfavorable (label=0)\n",
    "df_reviews_labeled = df_reviews_final.withColumn(\n",
    "    \"label\", when(col(\"rating\") >= 4, 1).otherwise(0)\n",
    ")\n",
    "\n",
    "df_reviews_labeled.show(10, truncate=True)"
   ]
  },
  {
   "cell_type": "code",
   "execution_count": 159,
   "metadata": {},
   "outputs": [],
   "source": [
    "# Train-test split (80-20 split)\n",
    "train_data, test_data = df_reviews_labeled.randomSplit([0.8, 0.2], seed=42)"
   ]
  },
  {
   "cell_type": "code",
   "execution_count": 160,
   "metadata": {},
   "outputs": [],
   "source": [
    "# Define the Logistic Regression model\n",
    "lr = LogisticRegression(featuresCol=\"tfidf_features\", labelCol=\"label\")"
   ]
  },
  {
   "cell_type": "code",
   "execution_count": 161,
   "metadata": {},
   "outputs": [],
   "source": [
    "# Build a pipeline (no additional transformations needed here)\n",
    "pipeline = Pipeline(stages=[lr])"
   ]
  },
  {
   "cell_type": "code",
   "execution_count": 162,
   "metadata": {},
   "outputs": [
    {
     "name": "stderr",
     "output_type": "stream",
     "text": [
      "[Stage 261:====>                                                  (1 + 11) / 12]\r"
     ]
    }
   ],
   "source": [
    "# Train the model\n",
    "lr_model = pipeline.fit(train_data)"
   ]
  },
  {
   "cell_type": "code",
   "execution_count": 163,
   "metadata": {},
   "outputs": [],
   "source": [
    "# Make predictions on the test data\n",
    "predictions = lr_model.transform(test_data)"
   ]
  },
  {
   "cell_type": "code",
   "execution_count": 164,
   "metadata": {},
   "outputs": [
    {
     "name": "stderr",
     "output_type": "stream",
     "text": [
      "                                                                                \r"
     ]
    }
   ],
   "source": [
    "# Evaluate the model\n",
    "evaluator = BinaryClassificationEvaluator(labelCol=\"label\", metricName=\"areaUnderROC\")\n",
    "roc_auc = evaluator.evaluate(predictions)"
   ]
  },
  {
   "cell_type": "code",
   "execution_count": 165,
   "metadata": {},
   "outputs": [
    {
     "name": "stdout",
     "output_type": "stream",
     "text": [
      "Test AUC (Area Under ROC): 0.9283\n"
     ]
    }
   ],
   "source": [
    "# Print the evaluation result\n",
    "print(f\"Test AUC (Area Under ROC): {roc_auc:.4f}\")"
   ]
  },
  {
   "cell_type": "code",
   "execution_count": 166,
   "metadata": {},
   "outputs": [
    {
     "name": "stdout",
     "output_type": "stream",
     "text": [
      "Sample Predictions:\n"
     ]
    },
    {
     "name": "stderr",
     "output_type": "stream",
     "text": [
      "[Stage 280:>                                                        (0 + 1) / 1]\r"
     ]
    },
    {
     "name": "stdout",
     "output_type": "stream",
     "text": [
      "+--------------------------------------------------------------------------------------------------------------------------------------------------------------------------------------------------------------------------------------------------------------------------------------------------------------------------------------------------------------------------------------------------------------------------------------------------------------------------------------------------------------------------------------------------------------------------------------------------------------------------------------------------------------------------------------------------------------------------------------------------------------------------+-----+----------+-----------------------------------------+\n",
      "|text                                                                                                                                                                                                                                                                                                                                                                                                                                                                                                                                                                                                                                                                                                                                                                      |label|prediction|probability                              |\n",
      "+--------------------------------------------------------------------------------------------------------------------------------------------------------------------------------------------------------------------------------------------------------------------------------------------------------------------------------------------------------------------------------------------------------------------------------------------------------------------------------------------------------------------------------------------------------------------------------------------------------------------------------------------------------------------------------------------------------------------------------------------------------------------------+-----+----------+-----------------------------------------+\n",
      "|Good luck trying to make a manufactory warranty claim on this ice maker. I think I was able to place a claim with Curtis International Ltd. after the Amazon chat line referred me to file a claim with the manufacturer \"Frigidaire\". After an hour on hold with the manufacturer they referred me to Electrolux since Figidare does not sell that ice maker. After another hour on hold with Electrolux, they referred me to Curtis International Ltd. and I waited another hour on hold to discover that no one was available to talk to. I placed a claim by emailing them so now I am waiting to see what happens. Please make a note that the optional \"5-Year Appliance Protection Plan\" does not help when the product is still under the manufacturer's warranty.|0    |0.0       |[0.9802015084773811,0.019798491522618922]|\n",
      "|The filters don't keep the coffee grounds contained so there is sediment in every cup.                                                                                                                                                                                                                                                                                                                                                                                                                                                                                                                                                                                                                                                                                    |0    |1.0       |[0.2980691582941716,0.7019308417058284]  |\n",
      "|The Heavy duty filter barely filters out any of the niter/sugar sand.  After following the directions closely I ended up with extremely cloudy syrup - ran it all back through a second time and the filter hardly picked up anything on the second pass - this \"heavy\" filter does not seem fine enough - hardly better than the pre-filters included.  Syrup ran through like water on the second pass and it's still extremely cloudy.  Filter does not match the picture in the description as others have mentioned - no rolled top.  Very disappointed for the cost - look elsewhere.                                                                                                                                                                               |0    |0.0       |[0.9999920665317311,7.933468268883637E-6]|\n",
      "|Lasted maybe 2 weeks and now it just turns on and won't make ice at all.  $120 for 2 weeks of ice seems like a waste.  This is my second ice maker the first one had a different name brand but same manufacturer lasted 2 years before it stopped working.  I don't like buying disposable products and am very disappointed.  I thought igloo would be a decent brand to buy since the name has been around for a long time!                                                                                                                                                                                                                                                                                                                                            |0    |0.0       |[0.9999125633922481,8.743660775190065E-5]|\n",
      "|It's a piece of plastic! $46 for a clear plastic dairy door that can break just as easily as the first one! The five star reviews talk about it like its the most exciting piece of technology they've seen on the market. Wow its \"unique clear plastic design allows me to check on them without the inconvenience of having to open the door\". \"unique\" means like no other... Yet its just like the one that came with the fridge as well as the same as any other fridge. Also \"Worked perfectly!\"... I would hope so... It only has one function: to open & close.  It goes for $30 elsewhere... What a joke.                                                                                                                                                       |0    |1.0       |[0.1434040688214762,0.8565959311785238]  |\n",
      "|They don't work in the Holmes unit. They do technically fit- but they don't work. I've had mine in for 3 days and the filter meter still reads red. But water is VERY SLOWLY evaporating.I went from filling the tank daily to weekly. That best describes the difference between the manufacturer's filter and this one.                                                                                                                                                                                                                                                                                                                                                                                                                                                 |0    |1.0       |[0.48117837659933527,0.5188216234006647] |\n",
      "|*** THIS ICE MACHINE IS DEFECTIVE ***It wouldn't work or start. I've tried guides, tutorials, and videos on how to properly repair it. It doesn't run or operate at all. It came to my home dead on arrival. I called their customer support, they were not helpful AT ALL! I called their numbers repeatedly and no one I spoke to was helpful or able to resolve my issue with this unit. It just wouldn't work at all.I was forced to throw it away. It was trash to me sitting in my kitchen doing absolutely nothing! The LEDs in the front would turn on but it would not work at all! It was properly cleaned, filled with water, nothing blocking it or anything. It just simply didn't work.I threw it away! It did not WORK!                                    |0    |0.0       |[0.9999965761399456,3.423860054363459E-6]|\n",
      "|[[VIDEOID:7101ea2ab55df66ca05ec3f369387b5c]] Be mindful that you might get a machine that the water does not drain out completely. Even when you turn it upside down in the tub it doesn’t come out. I would recommend another brand.                                                                                                                                                                                                                                                                                                                                                                                                                                                                                                                                     |0    |0.0       |[0.9151657245082072,0.08483427549179279] |\n",
      "|These shelves are expensive and yet they are made of cheap plastic which cracks way too easily.                                                                                                                                                                                                                                                                                                                                                                                                                                                                                                                                                                                                                                                                           |0    |0.0       |[0.5892791051222788,0.41072089487772123] |\n",
      "|I just changed my filter for the first time and did so as per the instructions but now the water has a very bad carbony aftertaste that it did not have before. I can't even drink it.                                                                                                                                                                                                                                                                                                                                                                                                                                                                                                                                                                                    |0    |0.0       |[0.6291865310725491,0.37081346892745093] |\n",
      "+--------------------------------------------------------------------------------------------------------------------------------------------------------------------------------------------------------------------------------------------------------------------------------------------------------------------------------------------------------------------------------------------------------------------------------------------------------------------------------------------------------------------------------------------------------------------------------------------------------------------------------------------------------------------------------------------------------------------------------------------------------------------------+-----+----------+-----------------------------------------+\n",
      "only showing top 10 rows\n",
      "\n"
     ]
    },
    {
     "name": "stderr",
     "output_type": "stream",
     "text": [
      "                                                                                \r"
     ]
    }
   ],
   "source": [
    "# Display some sample predictions\n",
    "print(\"Sample Predictions:\")\n",
    "predictions.select(\"text\", \"label\", \"prediction\", \"probability\").show(10, truncate=False)"
   ]
  },
  {
   "cell_type": "markdown",
   "metadata": {},
   "source": [
    "---"
   ]
  },
  {
   "cell_type": "markdown",
   "metadata": {},
   "source": [
    "### Model Evaluation\n",
    "\n",
    "lorem ipsum"
   ]
  },
  {
   "cell_type": "code",
   "execution_count": 167,
   "metadata": {},
   "outputs": [
    {
     "name": "stderr",
     "output_type": "stream",
     "text": [
      "                                                                                \r"
     ]
    }
   ],
   "source": [
    "# Accuracy\n",
    "evaluator_acc = MulticlassClassificationEvaluator(labelCol=\"label\", predictionCol=\"prediction\", metricName=\"accuracy\")\n",
    "accuracy = evaluator_acc.evaluate(predictions)"
   ]
  },
  {
   "cell_type": "code",
   "execution_count": 168,
   "metadata": {},
   "outputs": [
    {
     "name": "stderr",
     "output_type": "stream",
     "text": [
      "                                                                                \r"
     ]
    }
   ],
   "source": [
    "# Precision\n",
    "evaluator_precision = MulticlassClassificationEvaluator(labelCol=\"label\", predictionCol=\"prediction\", metricName=\"weightedPrecision\")\n",
    "precision = evaluator_precision.evaluate(predictions)"
   ]
  },
  {
   "cell_type": "code",
   "execution_count": 169,
   "metadata": {},
   "outputs": [
    {
     "name": "stderr",
     "output_type": "stream",
     "text": [
      "                                                                                \r"
     ]
    }
   ],
   "source": [
    "# Recall\n",
    "evaluator_recall = MulticlassClassificationEvaluator(labelCol=\"label\", predictionCol=\"prediction\", metricName=\"weightedRecall\")\n",
    "recall = evaluator_recall.evaluate(predictions)"
   ]
  },
  {
   "cell_type": "code",
   "execution_count": 170,
   "metadata": {},
   "outputs": [
    {
     "name": "stderr",
     "output_type": "stream",
     "text": [
      "                                                                                \r"
     ]
    }
   ],
   "source": [
    "# F1-score\n",
    "evaluator_f1 = MulticlassClassificationEvaluator(labelCol=\"label\", predictionCol=\"prediction\", metricName=\"f1\")\n",
    "f1 = evaluator_f1.evaluate(predictions)"
   ]
  },
  {
   "cell_type": "code",
   "execution_count": 171,
   "metadata": {},
   "outputs": [
    {
     "name": "stdout",
     "output_type": "stream",
     "text": [
      "Model Evaluation Metrics:\n",
      "Accuracy: 0.8969\n",
      "Precision: 0.8928\n",
      "Recall: 0.8969\n",
      "F1-score: 0.8914\n"
     ]
    }
   ],
   "source": [
    "# Print metrics\n",
    "print(f\"Model Evaluation Metrics:\")\n",
    "print(f\"Accuracy: {accuracy:.4f}\")\n",
    "print(f\"Precision: {precision:.4f}\")\n",
    "print(f\"Recall: {recall:.4f}\")\n",
    "print(f\"F1-score: {f1:.4f}\")"
   ]
  },
  {
   "cell_type": "code",
   "execution_count": null,
   "metadata": {},
   "outputs": [
    {
     "name": "stderr",
     "output_type": "stream",
     "text": [
      "                                                                                \r"
     ]
    },
    {
     "name": "stdout",
     "output_type": "stream",
     "text": [
      "Best Model Test AUC (Cross-Validated): 0.9289\n"
     ]
    }
   ],
   "source": [
    "\n",
    "\n",
    "# Define the parameter grid\n",
    "paramGrid = ParamGridBuilder().addGrid(lr.regParam, [0.01, 0.1, 1.0]).build()\n",
    "\n",
    "# Cross-validation\n",
    "crossval = CrossValidator(estimator=pipeline,\n",
    "                          estimatorParamMaps=paramGrid,\n",
    "                          evaluator=BinaryClassificationEvaluator(labelCol=\"label\"),\n",
    "                          numFolds=3)  # 3-fold cross-validation\n",
    "\n",
    "# Run cross-validation to choose the best model\n",
    "cv_model = crossval.fit(train_data)\n",
    "\n",
    "# Evaluate the best model\n",
    "best_model = cv_model.bestModel\n",
    "cv_predictions = best_model.transform(test_data)\n",
    "cv_roc_auc = evaluator.evaluate(cv_predictions)\n",
    "\n",
    "print(f\"Best Model Test AUC (Cross-Validated): {cv_roc_auc:.4f}\")"
   ]
  },
  {
   "cell_type": "markdown",
   "metadata": {},
   "source": [
    "---"
   ]
  },
  {
   "cell_type": "markdown",
   "metadata": {},
   "source": [
    "### Model Performance\n",
    "\n",
    "#### Baseline\n",
    "\n",
    "The baseline machine learning model performed well using logistic regression on the following metrics:\n",
    "\n",
    "| **Metric**    | **Score**  | \n",
    "| ------------- | ---------- |\n",
    "| Accuracy      | 0.8969     |\n",
    "| Precision     | 0.8928     |\n",
    "| Recall        | 0.8969     |     \n",
    "| F1-Score      | 0.8914     |\n",
    "| AUC           | 0.9283     |\n",
    "\n",
    "#### Cross-Validated (After Hyperparameter Tuning)\n",
    "\n",
    "Best Model Test AUC: 0.9289\n",
    "\n",
    "Hyperparameter tuning appeared to slightly improved the model’s predictive power by increasing the AUC to 0.9289\n",
    "\n",
    "This demonstrates that tuning the regularization parameter (regParam) allowed the model to generalize better on unseen test data.\n"
   ]
  },
  {
   "cell_type": "code",
   "execution_count": 174,
   "metadata": {},
   "outputs": [],
   "source": [
    "spark.stop()"
   ]
  }
 ],
 "metadata": {
  "kernelspec": {
   "display_name": ".venv",
   "language": "python",
   "name": "python3"
  },
  "language_info": {
   "codemirror_mode": {
    "name": "ipython",
    "version": 3
   },
   "file_extension": ".py",
   "mimetype": "text/x-python",
   "name": "python",
   "nbconvert_exporter": "python",
   "pygments_lexer": "ipython3",
   "version": "3.12.7"
  }
 },
 "nbformat": 4,
 "nbformat_minor": 2
}
