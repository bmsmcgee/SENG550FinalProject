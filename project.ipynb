{
 "cells": [
  {
   "cell_type": "markdown",
   "metadata": {},
   "source": [
    "# SENG 550 Final Project\n",
    "### Use the Amazon Appliances reviews dataset to develop a classifier or sentiment analyzer that can predict whether a given review is favorable or not"
   ]
  },
  {
   "cell_type": "markdown",
   "metadata": {},
   "source": [
    "## Abstract\n",
    "\n",
    "Our project uses the Amazon Appliances [reviews dataset](https://amazon-reviews-2023.github.io/) to develop a sentiment analyzer classification model. By combining star ratings and textual content, the model is trained to predict whether a review leans positively or negatively towards a product. This approach offers a way to quickly grasp the general sentiment of a product and assist shoppers in filtering through large volumes of product feedback more efficiently."
   ]
  },
  {
   "cell_type": "markdown",
   "metadata": {
    "vscode": {
     "languageId": "plaintext"
    }
   },
   "source": [
    "## Introduction\n",
    "\n",
    "### Selected Problem\n",
    "\n",
    "The problem aims to distinguish between favourable and unfavourable appliance reviews based on their text and accompanying reviews.\n",
    "\n",
    "### Why is it Important?\n",
    "\n",
    "Spending time reading review after review on a product becomes a burden. It is easy to misinterpret the mood behind a set of comments online which can easily lead to poor purchase decisions. A quick, automated sentiment indicator can ease the burden and establish a neutral decision making process.\n",
    "\n",
    "### What have Others Done in this Space?\n",
    "\n",
    "Researchers have performed [sentiment analysis](https://medium.com/@nafisaidris413/a-beginners-guide-for-product-review-sentiment-analysis-0de1f451167d) using Machine Learning and Natural Language Processing to automatically classify reviews as positive, negative, or neutral. Not only has sentiment analysis been applied to product reviews, it has also been applied to [social media](https://buffer.com/social-media-terms/sentiment-analysis) to determine how people perceive and talk about products and brands. This proves that data-driven classifiers are able to provide sentiment analysis scores for assist people in their daily lives, whether its to determine how their personal brand is viewed or how a to make an informed purchase through product review.\n",
    "\n",
    "### Existing gaps?\n",
    "\n",
    "Current solutions rely on product ratings to provide consumers with a sense of trust and quality to help them make purchasing decisions. This can be seen simply by going to any Amazon product and checking the reviews. Some reviews are informative with many positives about the product, though the product receives less than a rating of 5-stars, or the review is not informative whatsoever with a rating of 5-stars. Other times the reviews are clearly biased or the customer who leaves the review is disgruntled, leading to a 1- or 2-star rating. Using a combination of product star rating and textual review content, we are attempting to reveal patterns in product reviews that a rating alone might miss.\n",
    "\n",
    "### Data Analysis Questions\n",
    "\n",
    "1. Does text-based features add value beyond just a numerical rating?\n",
    "2. Are there certain words which portray a stronger positve or negative sentiment?\n",
    "3. How will adding text preprocessing impact accuracy?\n",
    "4. Which models work best with this data?\n",
    "\n",
    "### What is Proposed\n",
    "\n",
    "We are proposing a text classification pipeline that merges a product's star rating and textual features.\n",
    "\n",
    "### What are your Main Findings?\n",
    "\n",
    "To determine customer opinion on various products within the Appliance category in Amazon's online store."
   ]
  },
  {
   "cell_type": "markdown",
   "metadata": {},
   "source": [
    "## Methodology\n",
    "\n",
    "### Exploration of Data Features and Refinement of Feature Space\n",
    "\n",
    "In this section, we focused on understanding the raw data collected from the collected [datasets](https://amazon-reviews-2023.github.io/) and transform them into a format suitable for model training. We begin by loading the Amazon Appliance reviews dataset and its corresponding metadata. We will explore the structure of the data, examine the distribution of fields we are interested in (like ratings), and assess the overall quality of the text reviews associated with the products. After we gain a thorough understanding, we apply a series of preprocessing techniques to clean and refine the text data. The goal here is to ultimately develop a set of features that can be fed into a machine learning model for sentiment classification.\n",
    "\n",
    "#### Key Steps\n",
    "\n",
    "1. **Loading the Data:**\n",
    "We will loaf the `Appliances.jsonl` (reviews) and `meta_Appliances.jsonl` (metadata) using Apache Spark to avoid memory overload\n",
    "\n",
    "2. **Initial Inspection and Basic Statistics:**\n",
    "We will look at a few sample rows, check data types, count missing values, and examine distributions.\n",
    "\n",
    "3. **Textual Data Exploration:**\n",
    "We consider the nature of each review such as its length, the character composition, and common words. This should help guide our text cleaning decision.\n",
    "\n",
    "4. **Data Cleaning:**\n",
    "We clean the text by methods such as lowercasing the characters, removing punctuation, stripping leading and/or trailing whitespaces.\n",
    "\n",
    "5. **Feature Transformation:**\n",
    "We will use Spark Machine Learning's feature extraction tools to convert raw text into numeric features that are typically suitable for machine learning models."
   ]
  },
  {
   "cell_type": "markdown",
   "metadata": {},
   "source": [
    "#### Load the Data\n",
    "\n",
    "The datasets are provided in `*.jsonl` format, which means each line is a separate JSON object representing a single review or product's metadata. We will use `SparkSession` to read the files which will handle the data in a distributed manner, effectively avoiding a potential kernel crash. Spark's lazy evaluation, transformations, and actions will manage memory usage of the large `.jsonl` files.\n",
    "\n",
    "The two main data sources:\n",
    "1. **Review File (`Appliances.jsonl`):**\n",
    "Contains user-level reviews with fields such as `rating`, `title`, `text`, and `helpful_vote`.\n",
    "\n",
    "2. **Metada File (`meta_Appliaces.jsonl`):**\n",
    "Contains product-level information like `main_category`, `average_rating`, and `price`."
   ]
  },
  {
   "cell_type": "code",
   "execution_count": 1,
   "metadata": {},
   "outputs": [],
   "source": [
    "import os\n",
    "import numpy as np\n",
    "from functools import reduce\n",
    "from pyspark.sql import SparkSession\n",
    "from pyspark.ml.feature import Tokenizer, StopWordsRemover, CountVectorizer\n",
    "from pyspark.sql.functions import col, isnan, when, count, expr, sum, size, lower, regexp_replace, min, avg, max\n",
    "from pyspark.sql.types import StructType, StructField, StringType, FloatType, BooleanType, IntegerType, ArrayType, MapType"
   ]
  },
  {
   "cell_type": "code",
   "execution_count": 2,
   "metadata": {},
   "outputs": [
    {
     "name": "stderr",
     "output_type": "stream",
     "text": [
      "24/12/11 02:15:27 WARN Utils: Your hostname, codespaces-85203f resolves to a loopback address: 127.0.0.1; using 10.0.1.2 instead (on interface eth0)\n",
      "24/12/11 02:15:27 WARN Utils: Set SPARK_LOCAL_IP if you need to bind to another address\n",
      "Setting default log level to \"WARN\".\n",
      "To adjust logging level use sc.setLogLevel(newLevel). For SparkR, use setLogLevel(newLevel).\n",
      "24/12/11 02:15:28 WARN NativeCodeLoader: Unable to load native-hadoop library for your platform... using builtin-java classes where applicable\n"
     ]
    }
   ],
   "source": [
    "# Start a Spark Session\n",
    "spark = (\n",
    "    SparkSession.builder\n",
    "        .master(\"local[*]\")\n",
    "        .appName(\"Amazon Review Analysis\") \n",
    "        .config(\"spark.ui.showConsoleProgress\", \"false\")\n",
    "        .config(\"spark.executor.memory\", \"4g\")\n",
    "        .config(\"spark.driver.memory\", \"4g\")\n",
    "        .getOrCreate()\n",
    ")\n",
    "\n",
    "def create_schema(fields):\n",
    "    return StructType([StructField(name, dtype, True) for name, dtype in fields])\n",
    "\n",
    "# Only using columns needed for analysis for Reviews\n",
    "reviews_schema = create_schema([\n",
    "    (\"rating\", FloatType()),\n",
    "    (\"title\", StringType()),\n",
    "    (\"text\", StringType()),\n",
    "    (\"helpful_vote\", IntegerType()),\n",
    "    (\"asin\", StringType()),\n",
    "    (\"parent_asin\", StringType())\n",
    "])\n",
    "\n",
    "# Only using columns needed for analysis for Metadata\n",
    "meta_schema = create_schema([\n",
    "    (\"main_category\", StringType()),\n",
    "    (\"title\", StringType()),\n",
    "    (\"average_rating\", FloatType()),\n",
    "    (\"rating_number\", IntegerType()),\n",
    "    (\"price\", FloatType()),\n",
    "    (\"categories\", ArrayType(StringType())),\n",
    "    (\"parent_asin\", StringType())\n",
    "])\n",
    "\n",
    "# Point to the location where the .jsonl files are\n",
    "data_files = {\n",
    "    \"reviews\": \"./datasets/Appliances.jsonl\",\n",
    "    \"meta\": \"./datasets/meta_Appliances.jsonl\"\n",
    "    \n",
    "}\n",
    "\n",
    "# Use the schema when reading the JSON file for Reviews\n",
    "df_reviews = spark.read.schema(reviews_schema).json(data_files[\"reviews\"])\n",
    "\n",
    "# Use the schema when reading the JSON file for Meta\n",
    "df_meta = spark.read.schema(meta_schema).json(data_files[\"meta\"])"
   ]
  },
  {
   "cell_type": "markdown",
   "metadata": {},
   "source": [
    "---"
   ]
  },
  {
   "cell_type": "markdown",
   "metadata": {},
   "source": [
    "### Initial Inspection & Basic Statistics\n",
    "\n",
    "First it is important to understand the size of the dataset we are dealing with and the distribution of ratings. Using Spark actions like `show()` and `count()` we determine some initial statistics about both datasets which will be helpful to visualize them. We also would like to know how many values in each column of the datasets are `null`, `None`, and `NaN`, in case we need to do some backfilling or should ignore those sets completely. We can also display a few rows of each dataset which makes sure that the datasets were loaded successfully."
   ]
  },
  {
   "cell_type": "markdown",
   "metadata": {},
   "source": [
    "#### Dataset Structure Inspection\n",
    "\n",
    "For the structure of each dataset we will check the datasets dimensions, schema, and preview the data to understand each dataset."
   ]
  },
  {
   "cell_type": "code",
   "execution_count": null,
   "metadata": {},
   "outputs": [
    {
     "name": "stderr",
     "output_type": "stream",
     "text": [
      "24/12/11 02:15:40 WARN GarbageCollectionMetrics: To enable non-built-in garbage collector(s) List(G1 Concurrent GC), users should configure it(them) to spark.eventLog.gcMetrics.youngGenerationGarbageCollectors or spark.eventLog.gcMetrics.oldGenerationGarbageCollectors\n"
     ]
    }
   ],
   "source": [
    "# Dataset Structure Inpsection Function\n",
    "\n",
    "def structure_inspection(df, name):\n",
    "    # Print Dimensions\n",
    "    print(f\"{name} Dimensions: {df.count()} rows, {len(df.columns)} columns\")\n",
    "    \n",
    "    # Print Schema\n",
    "    print(f\"\\n{name} Schema:\")\n",
    "    df.printSchema()\n",
    "    \n",
    "    # Preview Data\n",
    "    print(f\"\\n{name} Preview:\")\n",
    "    df.show(10, truncate=True)"
   ]
  },
  {
   "cell_type": "code",
   "execution_count": 4,
   "metadata": {},
   "outputs": [
    {
     "name": "stdout",
     "output_type": "stream",
     "text": [
      "Appliance Reviews Dimensions: 2128605 rows, 6 columns\n",
      "\n",
      "Appliance Reviews Schema:\n",
      "root\n",
      " |-- rating: float (nullable = true)\n",
      " |-- title: string (nullable = true)\n",
      " |-- text: string (nullable = true)\n",
      " |-- helpful_vote: integer (nullable = true)\n",
      " |-- asin: string (nullable = true)\n",
      " |-- parent_asin: string (nullable = true)\n",
      "\n",
      "\n",
      "Appliance Reviews Preview:\n",
      "+------+--------------------+--------------------+------------+----------+-----------+\n",
      "|rating|               title|                text|helpful_vote|      asin|parent_asin|\n",
      "+------+--------------------+--------------------+------------+----------+-----------+\n",
      "|   5.0|          Work great|work great. use a...|           0|B01N0TQ0OH| B01N0TQ0OH|\n",
      "|   5.0|   excellent product|Little on the thi...|           0|B07DD2DMXB| B07DD37QPZ|\n",
      "|   5.0|     Happy customer!|Quick delivery, f...|           0|B082W3Z9YK| B082W3Z9YK|\n",
      "|   5.0|       Amazing value|I wasn't sure whe...|           0|B078W2BJY8| B078W2BJY8|\n",
      "|   5.0|         Dryer parts|Easy to install g...|           0|B08C9LPCQV| B08C9LPCQV|\n",
      "|   5.0|DO NOT purchase t...|After buying this...|           0|B08D6RFV6D| B099ZKQJHK|\n",
      "|   2.0|They don't fit pr...|Not the best quality|           0|B001TH7GZA| B001TH7H0O|\n",
      "|   5.0|          Five Stars|Part came quickly...|           0|B00AF7WZTM| B00AF7WZTM|\n",
      "|   5.0|          Five Stars|Always arrive in ...|           0|B001H05AXY| B001H05AXY|\n",
      "|   2.0|Company is phenom...|The company respo...|           0|B085C6C7WH| B085C6C7WH|\n",
      "+------+--------------------+--------------------+------------+----------+-----------+\n",
      "only showing top 10 rows\n",
      "\n"
     ]
    }
   ],
   "source": [
    "# Inspect Reviews\n",
    "structure_inspection(df_reviews, \"Appliance Reviews\")"
   ]
  },
  {
   "cell_type": "code",
   "execution_count": 5,
   "metadata": {},
   "outputs": [
    {
     "name": "stdout",
     "output_type": "stream",
     "text": [
      "Appliance Metadata Dimensions: 94327 rows, 7 columns\n",
      "\n",
      "Appliance Metadata Schema:\n",
      "root\n",
      " |-- main_category: string (nullable = true)\n",
      " |-- title: string (nullable = true)\n",
      " |-- average_rating: float (nullable = true)\n",
      " |-- rating_number: integer (nullable = true)\n",
      " |-- price: float (nullable = true)\n",
      " |-- categories: array (nullable = true)\n",
      " |    |-- element: string (containsNull = true)\n",
      " |-- parent_asin: string (nullable = true)\n",
      "\n",
      "\n",
      "Appliance Metadata Preview:\n",
      "+--------------------+--------------------+--------------+-------------+-----+--------------------+-----------+\n",
      "|       main_category|               title|average_rating|rating_number|price|          categories|parent_asin|\n",
      "+--------------------+--------------------+--------------+-------------+-----+--------------------+-----------+\n",
      "|Industrial & Scie...|ROVSUN Ice Maker ...|           3.7|           61| NULL|[Appliances, Refr...| B08Z743RRD|\n",
      "|Tools & Home Impr...|HANSGO Egg Holder...|           4.2|           75| NULL|[Appliances, Part...| B097BQDGHJ|\n",
      "|Tools & Home Impr...|Clothes Dryer Dru...|           3.5|           18| NULL|[Appliances, Part...| B00IN9AGAE|\n",
      "|Tools & Home Impr...|154567702 Dishwas...|           4.5|           26| NULL|[Appliances, Part...| B0C7K98JZS|\n",
      "|Tools & Home Impr...|Whirlpool W109185...|           3.8|           12|25.07|[Appliances, Part...| B07QZHQTVJ|\n",
      "|Tools & Home Impr...|1841N030 - Brown ...|           4.5|            7| NULL|[Appliances, Part...| B00GS4892I|\n",
      "|          Appliances|WD12X10327 Rack R...|           4.6|          323| 8.99|[Appliances, Part...| B07W42P978|\n",
      "|Tools & Home Impr...|SAMSUNG Cap-Handl...|           4.0|           12|53.68|[Appliances, Part...| B078ZF9JS1|\n",
      "|         Amazon Home|G.a HOMEFAVOR Col...|           4.5|          326| NULL|[Small Appliance ...| B083Q6Y54F|\n",
      "|Tools & Home Impr...|3-pack OnePurify ...|           4.3|          236| NULL|[Appliances, Part...| B00KAS9ZMG|\n",
      "+--------------------+--------------------+--------------+-------------+-----+--------------------+-----------+\n",
      "only showing top 10 rows\n",
      "\n"
     ]
    }
   ],
   "source": [
    "# Inspect Metadata\n",
    "structure_inspection(df_meta, \"Appliance Metadata\")"
   ]
  },
  {
   "cell_type": "markdown",
   "metadata": {},
   "source": [
    "#### Missing Values Inspection\n",
    "\n",
    "Missing values is one of the most common headaches in datasets. We need to check for them in both datasets to ensure that we can confidently use the data, else we have to consider backfilling the missing data or not using it at all."
   ]
  },
  {
   "cell_type": "code",
   "execution_count": 11,
   "metadata": {},
   "outputs": [],
   "source": [
    "def get_nulls_counter(df, col_dtypes):\n",
    "    null_dfs = []\n",
    "    for col_dtype, cols in col_dtypes.items():\n",
    "        if col_dtype in [\"float\", \"integer\"]:\n",
    "            null_dfs.append(df.select([sum(col(c).isNull().cast(\"int\")).alias(c) for c in cols]))\n",
    "        elif col_dtype == \"string\":\n",
    "            null_dfs.append(df.select([sum((col(c).isNull() | (col(c) == \"\")).cast(\"int\")).alias(c) for c in cols]))\n",
    "        elif col_dtype == \"array\":\n",
    "            null_dfs.append(df.select([sum((col(c).isNull() | expr(f\"exists({c}, x -> x == '')\")).cast(\"int\")).alias(c) for c in cols]))\n",
    "\n",
    "    # Combine all null DataFrames using reduce\n",
    "    return reduce(lambda df1, df2: df1.crossJoin(df2), null_dfs)\n"
   ]
  },
  {
   "cell_type": "code",
   "execution_count": 17,
   "metadata": {},
   "outputs": [],
   "source": [
    "def print_missing_values(df, name):\n",
    "    col_dtypes = {\n",
    "        \"float\": [c for c in df.columns if df.schema[c].dataType.simpleString() == \"float\"],\n",
    "        \"string\": [c for c in df.columns if df.schema[c].dataType.simpleString() == \"string\"],\n",
    "        \"integer\": [c for c in df.columns if df.schema[c].dataType.simpleString() == \"int\"],\n",
    "        \"array\": [c for c in df.columns if df.schema[c].dataType.simpleString().startswith(\"array\")]\n",
    "    }\n",
    "    \n",
    "    null_counter = get_nulls_counter(df, col_dtypes)\n",
    "    \n",
    "    print(f\"{name} Counted Missing Values per Column:\")\n",
    "    null_counter.show(1)"
   ]
  },
  {
   "cell_type": "code",
   "execution_count": 18,
   "metadata": {},
   "outputs": [
    {
     "name": "stdout",
     "output_type": "stream",
     "text": [
      "Appliance Reviews Counted Missing Values per Column:\n",
      "+------+-----+----+----+-----------+------------+\n",
      "|rating|title|text|asin|parent_asin|helpful_vote|\n",
      "+------+-----+----+----+-----------+------------+\n",
      "|     0|    0|  95|   0|          0|           0|\n",
      "+------+-----+----+----+-----------+------------+\n",
      "only showing top 1 row\n",
      "\n"
     ]
    }
   ],
   "source": [
    "print_missing_values(df_reviews, \"Appliance Reviews\")"
   ]
  },
  {
   "cell_type": "code",
   "execution_count": 19,
   "metadata": {},
   "outputs": [
    {
     "name": "stdout",
     "output_type": "stream",
     "text": [
      "Appliance Metadata Counted Missing Values per Column:\n",
      "+--------------+-----+-------------+-----+-----------+-------------+----------+\n",
      "|average_rating|price|main_category|title|parent_asin|rating_number|categories|\n",
      "+--------------+-----+-------------+-----+-----------+-------------+----------+\n",
      "|             0|47601|         4676|    9|          0|            0|         0|\n",
      "+--------------+-----+-------------+-----+-----------+-------------+----------+\n",
      "\n"
     ]
    }
   ],
   "source": [
    "print_missing_values(df_meta, \"Appliance Metadata\")"
   ]
  },
  {
   "cell_type": "markdown",
   "metadata": {},
   "source": [
    "#### Duplicates\n",
    "\n",
    "Catching if there is duplicate data is important so that we do not have skewed data. All the data should be unique. Duplicate data will be handled during data cleanup."
   ]
  },
  {
   "cell_type": "code",
   "execution_count": 25,
   "metadata": {},
   "outputs": [],
   "source": [
    "def duplicate_data(df, name):\n",
    "    total_count = df.count()\n",
    "    distinct_count = df.distinct().count()\n",
    "    duplicate_count = total_count - distinct_count\n",
    "    print(f\"{name} Duplicate Data: {duplicate_count}\\n(Total: {total_count}, Distinct: {distinct_count})\")       \n",
    "    "
   ]
  },
  {
   "cell_type": "code",
   "execution_count": 21,
   "metadata": {},
   "outputs": [
    {
     "name": "stdout",
     "output_type": "stream",
     "text": [
      "Appliance Reviews Duplicate Data: 29492\n",
      "(Total: 2128605, Distinct: 2099113)\n"
     ]
    }
   ],
   "source": [
    "duplicate_data(df_reviews, \"Appliance Reviews\")\n"
   ]
  },
  {
   "cell_type": "code",
   "execution_count": 26,
   "metadata": {},
   "outputs": [
    {
     "name": "stdout",
     "output_type": "stream",
     "text": [
      "Appliance Metadata Duplicate Data: 0\n",
      "(Total: 94327, Distinct: 94327)\n"
     ]
    }
   ],
   "source": [
    "duplicate_data(df_meta, \"Appliance Metadata\")"
   ]
  },
  {
   "cell_type": "markdown",
   "metadata": {},
   "source": [
    "#### Statistical Data\n",
    "\n",
    "We examine the statistical summaries for both the Reviews and Metadata. This helps us spot outliers and check if there are unexpected ranges that we have to look out for."
   ]
  },
  {
   "cell_type": "code",
   "execution_count": 27,
   "metadata": {},
   "outputs": [
    {
     "name": "stdout",
     "output_type": "stream",
     "text": [
      "Appliance Reviews Statistical Summary\n"
     ]
    },
    {
     "name": "stderr",
     "output_type": "stream",
     "text": [
      "24/12/11 02:29:27 WARN SparkStringUtils: Truncated the string representation of a plan since it was too large. This behavior can be adjusted by setting 'spark.sql.debug.maxToStringFields'.\n"
     ]
    },
    {
     "name": "stdout",
     "output_type": "stream",
     "text": [
      "+-------+------------------+--------------------+--------------------+------------------+--------------------+--------------------+\n",
      "|summary|            rating|               title|                text|      helpful_vote|                asin|         parent_asin|\n",
      "+-------+------------------+--------------------+--------------------+------------------+--------------------+--------------------+\n",
      "|  count|           2128605|             2128605|             2128605|           2128605|             2128605|             2128605|\n",
      "|   mean| 4.221502345432807|                 NaN|1.0294495574587156E9|0.9288867591685634|1.5550635848728814E9|1.5550635848728814E9|\n",
      "| stddev|1.3808261737697332|                 NaN|1.064196457532015...|12.526794316769578|1.4548141211071746E9|1.4548141211071746E9|\n",
      "|    min|               1.0|                   !|                    |                 0|          0967805929|          0967805929|\n",
      "|    max|               5.0|🧊🥶 AMAZING 🤩  ...|🧐doesn’t filter ...|              5704|          B0CFQVYFWC|          B0CKR66M1V|\n",
      "+-------+------------------+--------------------+--------------------+------------------+--------------------+--------------------+\n",
      "\n"
     ]
    }
   ],
   "source": [
    "print(f\"Appliance Reviews Statistical Summary\")\n",
    "df_reviews.describe().show()"
   ]
  },
  {
   "cell_type": "code",
   "execution_count": 28,
   "metadata": {},
   "outputs": [
    {
     "name": "stdout",
     "output_type": "stream",
     "text": [
      "Appliance Metadata Statistical Summary\n",
      "+-------+--------------+--------------------+------------------+------------------+------------------+--------------------+\n",
      "|summary| main_category|               title|    average_rating|     rating_number|             price|         parent_asin|\n",
      "+-------+--------------+--------------------+------------------+------------------+------------------+--------------------+\n",
      "|  count|         89651|               94327|             94327|             94327|             46726|               94327|\n",
      "|   mean|          NULL|  1.1113368793875E10| 4.118858857941276|136.36790102515715|  86.4799539034291|4.0776468745555553E9|\n",
      "| stddev|          NULL|3.142601103602334...|0.8640397544170944| 977.5160999553561|325.31839674168526| 3.745278366512328E9|\n",
      "|    min|AMAZON FASHION|                    |               1.0|                 1|              0.01|          0967805929|\n",
      "|    max|   Video Games|𝟮𝟬𝟮𝟯𝙪𝙥𝙜𝙧?...|               5.0|             90203|          21095.62|          B0CKR66M1V|\n",
      "+-------+--------------+--------------------+------------------+------------------+------------------+--------------------+\n",
      "\n"
     ]
    }
   ],
   "source": [
    "print(f\"Appliance Metadata Statistical Summary\")\n",
    "df_meta.describe().show()"
   ]
  },
  {
   "cell_type": "markdown",
   "metadata": {},
   "source": [
    "---"
   ]
  },
  {
   "cell_type": "markdown",
   "metadata": {},
   "source": [
    "### Textual Data Exploration\n",
    "\n",
    "The main predictive feature of the model will likely be the `text` column in the Appliance Review dataset. It is important that we are able to understand its quality. We find answers to questions such as are the reviews too short or lone? Do they contain descriptive terms or just a few words? We also need to consider if there is text in different languages other than english.\n",
    "\n",
    "What we will do is start by analyzing the length of the reviews in terms of word count. This will help guide us in the direction we want. If the text is too short, maybe we need to rely more on ratings or metadata. If text is rich, a text-based sentiment analysis may just work well."
   ]
  },
  {
   "cell_type": "code",
   "execution_count": null,
   "metadata": {},
   "outputs": [],
   "source": [
    "df_reviews = df_reviews.fillna({\"text\": \"\"})\n",
    "df_reviews = df_reviews.withColumn(\"text\", col(\"text\").cast(StringType()))\n",
    "\n",
    "tokenizer_reviews = Tokenizer(inputCol=\"text\", outputCol=\"words_raw\")\n",
    "df_tokenizer_reviews = tokenizer_reviews.transform(df_reviews)\n",
    "\n",
    "df_tokenizer_reviews = df_tokenizer_reviews.withColumn(\"character_length\", size(col(\"words_raw\")))\n",
    "\n",
    "print(f\"Appliance Reviews with Raw Words and Character Length included\")\n",
    "df_tokenizer_reviews.show(10, truncate=True)\n",
    "\n",
    "print(f\"\\nMinimum, Average, and Maximum character length of the Appliance Reviews\")\n",
    "df_tokenizer_reviews.select(min(\"character_length\"), avg(\"character_length\"), max(\"character_length\")).show()"
   ]
  },
  {
   "cell_type": "markdown",
   "metadata": {},
   "source": [
    "---"
   ]
  },
  {
   "cell_type": "markdown",
   "metadata": {},
   "source": [
    "### Data Cleaning"
   ]
  },
  {
   "cell_type": "code",
   "execution_count": null,
   "metadata": {},
   "outputs": [],
   "source": [
    "spark.stop()"
   ]
  }
 ],
 "metadata": {
  "kernelspec": {
   "display_name": "venv",
   "language": "python",
   "name": "python3"
  },
  "language_info": {
   "codemirror_mode": {
    "name": "ipython",
    "version": 3
   },
   "file_extension": ".py",
   "mimetype": "text/x-python",
   "name": "python",
   "nbconvert_exporter": "python",
   "pygments_lexer": "ipython3",
   "version": "3.12.1"
  }
 },
 "nbformat": 4,
 "nbformat_minor": 2
}
