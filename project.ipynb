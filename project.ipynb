{
 "cells": [
  {
   "cell_type": "markdown",
   "metadata": {},
   "source": [
    "# SENG 550 Final Project\n",
    "### Use the Amazon Appliances reviews dataset to develop a classifier or sentiment analyzer that can predict whether a given review is favorable or not"
   ]
  },
  {
   "cell_type": "markdown",
   "metadata": {},
   "source": [
    "## Abstract\n",
    "\n",
    "Our project uses the Amazon Appliances [reviews dataset](https://amazon-reviews-2023.github.io/) to develop a sentiment analyzer classification model. By combining star ratings and textual content, the model is trained to predict whether a review leans positively or negatively towards a product. This approach offers a way to quickly grasp the general sentiment of a product and assist shoppers in filtering through large volumes of product feedback more efficiently."
   ]
  },
  {
   "cell_type": "markdown",
   "metadata": {
    "vscode": {
     "languageId": "plaintext"
    }
   },
   "source": [
    "## Introduction\n",
    "\n",
    "### Selected Problem\n",
    "\n",
    "The problem aims to distinguish between favourable and unfavourable appliance reviews based on their text and accompanying reviews.\n",
    "\n",
    "### Why is it Important?\n",
    "\n",
    "Spending time reading review after review on a product becomes a burden. It is easy to misinterpret the mood behind a set of comments online which can easily lead to poor purchase decisions. A quick, automated sentiment indicator can ease the burden and establish a neutral decision making process.\n",
    "\n",
    "### What have Others Done in this Space?\n",
    "\n",
    "Researchers have performed [sentiment analysis](https://medium.com/@nafisaidris413/a-beginners-guide-for-product-review-sentiment-analysis-0de1f451167d) using Machine Learning and Natural Language Processing to automatically classify reviews as positive, negative, or neutral. Not only has sentiment analysis been applied to product reviews, it has also been applied to [social media](https://buffer.com/social-media-terms/sentiment-analysis) to determine how people perceive and talk about products and brands. This proves that data-driven classifiers are able to provide sentiment analysis scores for assist people in their daily lives, whether its to determine how their personal brand is viewed or how a to make an informed purchase through product review.\n",
    "\n",
    "### Existing gaps?\n",
    "\n",
    "Current solutions rely on product ratings to provide consumers with a sense of trust and quality to help them make purchasing decisions. This can be seen simply by going to any Amazon product and checking the reviews. Some reviews are informative with many positives about the product, though the product receives less than a rating of 5-stars, or the review is not informative whatsoever with a rating of 5-stars. Other times the reviews are clearly biased or the customer who leaves the review is disgruntled, leading to a 1- or 2-star rating. Using a combination of product star rating and textual review content, we are attempting to reveal patterns in product reviews that a rating alone might miss.\n",
    "\n",
    "### Data Analysis Questions\n",
    "\n",
    "1. Does text-based features add value beyond just a numerical rating?\n",
    "2. Are there certain words which portray a stronger positve or negative sentiment?\n",
    "3. How will adding text preprocessing impact accuracy?\n",
    "4. Which models work best with this data?\n",
    "\n",
    "### What is Proposed\n",
    "\n",
    "We are proposing a text classification pipeline that merges a product's star rating and textual features.\n",
    "\n",
    "### What are your Main Findings?\n",
    "\n",
    "To determine customer opinion on various products within the Appliance category in Amazon's online store."
   ]
  },
  {
   "cell_type": "markdown",
   "metadata": {},
   "source": [
    "## Methodology\n",
    "\n",
    "### Exploration of Data Features and Refinement of Feature Space\n",
    "\n",
    "In this section, we focused on understanding the raw data collected from the collected [datasets](https://amazon-reviews-2023.github.io/) and transform them into a format suitable for model training. We begin by loading the Amazon Appliance reviews dataset and its corresponding metadata. We will explore the structure of the data, examine the distribution of fields we are interested in (like ratings), and assess the overall quality of the text reviews associated with the products. After we gain a thorough understanding, we apply a series of preprocessing techniques to clean and refine the text data. The goal here is to ultimately develop a set of features that can be fed into a machine learning model for sentiment classification.\n",
    "\n",
    "#### Key Steps\n",
    "\n",
    "1. **Loading the Data:**\n",
    "We will loaf the `Appliances.jsonl` (reviews) and `meta_Appliances.jsonl` (metadata) using Apache Spark to avoid memory overload\n",
    "\n",
    "2. **Initial Inspection and Basic Statistics:**\n",
    "We will look at a few sample rows, check data types, count missing values, and examine distributions.\n",
    "\n",
    "3. **Textual Data Exploration:**\n",
    "We consider the nature of each review such as its length, the character composition, and common words. This should help guide our text cleaning decision.\n",
    "\n",
    "4. **Data Cleaning:**\n",
    "We clean the text by methods such as lowercasing the characters, removing punctuation, stripping leading and/or trailing whitespaces.\n",
    "\n",
    "5. **Feature Transformation:**\n",
    "We will use Spark Machine Learning's feature extraction tools to convert raw text into numeric features that are typically suitable for machine learning models."
   ]
  },
  {
   "cell_type": "markdown",
   "metadata": {},
   "source": [
    "#### Load the Data\n",
    "\n",
    "The datasets are provided in `*.jsonl` format, which means each line is a separate JSON object representing a single review or product's metadata. We will use `SparkSession` to read the files which will handle the data in a distributed manner, effectively avoiding a potential kernel crash. Spark's lazy evaluation, transformations, and actions will manage memory usage of the large `.jsonl` files\n",
    "\n",
    "The two main data sources:\n",
    "1. **Review File (`Appliances.jsonl`):**\n",
    "Contains user-level reviews with fields such as `rating`, `title`, `text`, `verified_purchase`, `helpful_vote`, and `timestamp`.\n",
    "\n",
    "2. **Metada File (`meta_Appliaces.jsonl`):**\n",
    "Contains product-level information like `main_category`, `average_rating`, `description`, `features`, and `price`."
   ]
  },
  {
   "cell_type": "code",
   "execution_count": null,
   "metadata": {},
   "outputs": [
    {
     "name": "stdout",
     "output_type": "stream",
     "text": [
      "+------+-----------------+-----------------------------------------------------------------------------------------------------------------------------------------------------------------------------------------------------------------------------------------------------------------------------------------------------------+----------+-----------+----------------------------+-----------------+------------+\n",
      "|rating|title            |text                                                                                                                                                                                                                                                                                                       |asin      |parent_asin|user_id                     |verified_purchase|helpful_vite|\n",
      "+------+-----------------+-----------------------------------------------------------------------------------------------------------------------------------------------------------------------------------------------------------------------------------------------------------------------------------------------------------+----------+-----------+----------------------------+-----------------+------------+\n",
      "|5.0   |Work great       |work great. use a new one every month                                                                                                                                                                                                                                                                      |B01N0TQ0OH|B01N0TQ0OH |AGKHLEW2SOWHNMFQIJGBECAF7INQ|true             |NULL        |\n",
      "|5.0   |excellent product|Little on the thin side                                                                                                                                                                                                                                                                                    |B07DD2DMXB|B07DD37QPZ |AHWWLSPCJMALVHDDVSUGICL6RUCA|true             |NULL        |\n",
      "|5.0   |Happy customer!  |Quick delivery, fixed the issue!                                                                                                                                                                                                                                                                           |B082W3Z9YK|B082W3Z9YK |AHZIJGKEWRTAEOZ673G5B3SNXEGQ|true             |NULL        |\n",
      "|5.0   |Amazing value    |I wasn't sure whether these were worth it or not, given the cost compared to the original branded filters.<br /><br />I can happily report that these are a great value and work every bit as good as the original. If you are on the fence worrying whether these are worth it- I can assure you they are.|B078W2BJY8|B078W2BJY8 |AFGUPTDFAWOHHL4LZDV27ERDNOYQ|true             |NULL        |\n",
      "|5.0   |Dryer parts      |Easy to install got the product expected to receive                                                                                                                                                                                                                                                        |B08C9LPCQV|B08C9LPCQV |AELFJFAXQERUSMTXJQ6SYFFRDWMA|true             |NULL        |\n",
      "+------+-----------------+-----------------------------------------------------------------------------------------------------------------------------------------------------------------------------------------------------------------------------------------------------------------------------------------------------------+----------+-----------+----------------------------+-----------------+------------+\n",
      "only showing top 5 rows\n",
      "\n",
      "+------------------------+-----------------------------------------------------------------------------------------------------------------------------------------------------+--------------+-------------+--------------------------------------------------------------------------------------------------------------------------------------------------------------------------------------------------------------------------------------------------------------------------------------------------------------------------------------------------------------------------------------------------------------------------------------------------------------------------------------------------------------------------------------------------------------------------------------------------------------------------------------------------------------------------------------------------------------------------------------------------------------------------------------------------------------------------------------------------------------------------------------------------------------------------------------------------------------------------------------------------------------------------------------------------------------------------------------------------------------------------------------------------------------------------------------------------------------------------------------+---------------------------------------------------------------------------------------------------------------------------------------------------------------------------------------------------------------------------------------------------------------------------------------------------------------------------------------------+-----+---------+-------------------------------------------------------------------------------+-------------------------------------------------------------------------------------------------------------------------------------------------------------------------------------------------------------------------------------------------------------------------------------------------------------------------------------------------------------------------------------------------------------------------------------------------------------------------------------------+-----------+\n",
      "|main_category           |title                                                                                                                                                |average_rating|rating_number|features                                                                                                                                                                                                                                                                                                                                                                                                                                                                                                                                                                                                                                                                                                                                                                                                                                                                                                                                                                                                                                                                                                                                                                                                                              |description                                                                                                                                                                                                                                                                                                                                  |price|store    |categories                                                                     |details                                                                                                                                                                                                                                                                                                                                                                                                                                                                                    |parent_asin|\n",
      "+------------------------+-----------------------------------------------------------------------------------------------------------------------------------------------------+--------------+-------------+--------------------------------------------------------------------------------------------------------------------------------------------------------------------------------------------------------------------------------------------------------------------------------------------------------------------------------------------------------------------------------------------------------------------------------------------------------------------------------------------------------------------------------------------------------------------------------------------------------------------------------------------------------------------------------------------------------------------------------------------------------------------------------------------------------------------------------------------------------------------------------------------------------------------------------------------------------------------------------------------------------------------------------------------------------------------------------------------------------------------------------------------------------------------------------------------------------------------------------------+---------------------------------------------------------------------------------------------------------------------------------------------------------------------------------------------------------------------------------------------------------------------------------------------------------------------------------------------+-----+---------+-------------------------------------------------------------------------------+-------------------------------------------------------------------------------------------------------------------------------------------------------------------------------------------------------------------------------------------------------------------------------------------------------------------------------------------------------------------------------------------------------------------------------------------------------------------------------------------+-----------+\n",
      "|Industrial & Scientific |ROVSUN Ice Maker Machine Countertop, Make 44lbs Ice in 24 Hours, Compact & Portable Ice Maker with Ice Basket for Home, Office, Kitchen, Bar (Silver)|3.7           |61           |[【Quick Ice Making】This countertop ice machine creates crystal & bullet shaped ice cubes; 44lbs of ice ready in 24 hours, 12 cubes made per cycle within 10 mins; you can perfectly use it for drinks, wine, smoothies, food, 【Portable Design】The weight of this ice maker is only 23.3lbs, and the small size (10.63 x14.37 x 12.87)\" makes it portable. It's compact feature is perfect for home, office, apartments, dormitories, RVs and more, it can be placed on countertop or tabletop, plug it anywhere you like, 【Simple Operation】Adding the water tank with purified water; Power on machine and press \"on/off\" button to start ice making process; After 8-12 minutes, ice cube will fall off into the ice basket automatically; Take it out and make you cool, 【Full Monitoring】 Designed with compressor cooling system, operates at low noise and will not disturb your normal life; See-through window on top allows you to easily view the progress and check ice level, 【1 Year Warranty】We do cover 1 year warranty on this ice maker, any questions about it, please don't hesitate to contact us at any time for getting a satisfied service. Worry free purchase, so get this ice machine home today]|[]                                                                                                                                                                                                                                                                                                                                           |NULL |ROVSUN   |[Appliances, Refrigerators, Freezers & Ice Makers, Ice Makers]                 |{Brand -> ROVSUN, Model Name -> ICM-2005, Capacity -> 44 Pounds, Wattage -> 120 watts, Voltage -> 120 Volts, Package Dimensions -> 18 x 16 x 13.5 inches; 26.5 Pounds, Date First Available -> March 17, 2021, Manufacturer -> ROVSUN}                                                                                                                                                                                                                                                     |B08Z743RRD |\n",
      "|Tools & Home Improvement|HANSGO Egg Holder for Refrigerator, Deviled Eggs Dispenser Egg Storage Stackable Plastic Egg Containers Hold ups to 10 Eggs                          |4.2           |75           |[Plastic, Practical Kitchen Storage - Our egg holder holds up to 10 eggs in normal size, keep eggs safe and fresh with this home basics fridge bin., Easy to Use - Egg holder for refrigerator can be superimposed on the refrigerator, beautiful and room-saving, neatly organize your refrigerator without any loose eggs or flimsy egg cartons. Super easy to clean, you just need to use a sponge or rag to wipe water after washing., Premium Quality - Our transparent egg box is made of high-grade plastic, BPA free, nontoxic and odorless, safe and durable. Size: 10.6 x 4.9 x 2.7inches (L x W x H), Storage Organizer - Our egg trays are the perfect solution for fridge organizing, suited to contain the egg that is smaller than 6cm, compact design effortlessly fits into any refrigerator to help maximize your space without crushing any eggs, also suitable for storage strawberries, dumplings and other kinds of dim sum., Widely Used - Our deviled eggs container is suitable for fridge, freezer, pantry, refrigerator, kitchen cabinets, camping and picnic. Store eggs safely while preserving the freshness.]                                                                                          |[]                                                                                                                                                                                                                                                                                                                                           |NULL |HANSGO   |[Appliances, Parts & Accessories, Refrigerator Parts & Accessories, Egg Trays] |{Manufacturer -> HANSGO, Part Number -> HANSGO, Item Weight -> 5 ounces, Product Dimensions -> 10.6\"L x 4.9\"W x 2.7\"H, Item model number -> HH0151, Size -> medium, Color -> Bright white, Material -> Plastic, Shape -> Rectangular, Handle Material -> Plastic, Batteries Included? -> No, Batteries Required? -> No, Best Sellers Rank -> {\"Tools & Home Improvement\":246177,\"Refrigerator Egg Trays\":288}, Date First Available -> June 16, 2021, Brand -> HANSGO, Number of Sets -> 1}|B097BQDGHJ |\n",
      "|Tools & Home Improvement|Clothes Dryer Drum Slide, General Electric, Hotpoint, WE1M333, WE1M504                                                                               |3.5           |18           |[]                                                                                                                                                                                                                                                                                                                                                                                                                                                                                                                                                                                                                                                                                                                                                                                                                                                                                                                                                                                                                                                                                                                                                                                                                                    |[Brand new dryer drum slide, replaces General Electric, Hotpoint, RCA, WE1M333, WE1M504.]                                                                                                                                                                                                                                                    |NULL |GE       |[Appliances, Parts & Accessories]                                              |{Manufacturer -> RPI, Part Number -> WE1M333,, Item Weight -> 0.352 ounces, Package Dimensions -> 5.5 x 4.7 x 0.4 inches, Item model number -> WE1M333,, Is Discontinued By Manufacturer -> No, Item Package Quantity -> 1, Batteries Included? -> No, Batteries Required? -> No, Best Sellers Rank -> {\"Tools & Home Improvement\":1315213,\"Parts & Accessories\":181194}, Date First Available -> February 25, 2014}                                                                       |B00IN9AGAE |\n",
      "|Tools & Home Improvement|154567702 Dishwasher Lower Wash Arm Assembly for Kenmore Electrolux Dishwasher Bottom Lower Spray Arm 5304518927, AP6810011,154567701…               |4.5           |26           |[MODEL NUMBER:154567702 Dishwasher Lower Wash Arm Assembly, Compatible with Electrolux Frigidaire Gibson Kelvinator Westinghouse Dishwasher models ., This part is Replaces: AP6810011, 154567702, 5304507175, 154567701, 154335802, 154414201, 154496901, 154496902, 154550002,5304518927,735873135992., 365-DAY WARRANTY POLICY: folosem parts always come with a 1 year warranty.]                                                                                                                                                                                                                                                                                                                                                                                                                                                                                                                                                                                                                                                                                                                                                                                                                                                 |[MODEL NUMBER:154567702 Dishwasher Lower Wash Arm Assembly.  This part is Replaces: AP6810011, 154567702, 5304507175, 154567701, 154335802, 154414201, 154496901, 154496902, 154550002,5304518927,735873135992. Fix Symptoms: When your dishwasher shows the following symptoms: Not cleaning dishes properly, Leaking, Noisy, Not draining.]|NULL |folosem  |[Appliances, Parts & Accessories, Dryer Parts & Accessories, Replacement Parts]|{Manufacturer -> folosem, Part Number -> 154567702, Item Weight -> 8.4 ounces, Package Dimensions -> 19.45 x 4.96 x 3.54 inches, Color -> 154567702, Batteries Included? -> No, Batteries Required? -> No, Best Sellers Rank -> {\"Tools & Home Improvement\":702914,\"Dryer Replacement Parts\":12719}, Date First Available -> January 12, 2022}                                                                                                                                             |B0C7K98JZS |\n",
      "|Tools & Home Improvement|Whirlpool W10918546 Igniter                                                                                                                          |3.8           |12           |[This is a Genuine OEM Replacement Part.]                                                                                                                                                                                                                                                                                                                                                                                                                                                                                                                                                                                                                                                                                                                                                                                                                                                                                                                                                                                                                                                                                                                                                                                             |[Whirlpool Igniter]                                                                                                                                                                                                                                                                                                                          |25.07|Whirlpool|[Appliances, Parts & Accessories]                                              |{Manufacturer -> Whirlpool, Part Number -> W10918546, Item Weight -> 1 pounds, Product Dimensions -> 1 x 1 x 1 inches, Item model number -> W10918546, Item Package Quantity -> 1, Batteries Included? -> No, Batteries Required? -> No, Warranty Description -> This is a Genuine OEM Replacement Part., Best Sellers Rank -> {\"Tools & Home Improvement\":655322,\"Parts & Accessories\":93370}, Date First Available -> April 19, 2019}                                                    |B07QZHQTVJ |\n",
      "+------------------------+-----------------------------------------------------------------------------------------------------------------------------------------------------+--------------+-------------+--------------------------------------------------------------------------------------------------------------------------------------------------------------------------------------------------------------------------------------------------------------------------------------------------------------------------------------------------------------------------------------------------------------------------------------------------------------------------------------------------------------------------------------------------------------------------------------------------------------------------------------------------------------------------------------------------------------------------------------------------------------------------------------------------------------------------------------------------------------------------------------------------------------------------------------------------------------------------------------------------------------------------------------------------------------------------------------------------------------------------------------------------------------------------------------------------------------------------------------+---------------------------------------------------------------------------------------------------------------------------------------------------------------------------------------------------------------------------------------------------------------------------------------------------------------------------------------------+-----+---------+-------------------------------------------------------------------------------+-------------------------------------------------------------------------------------------------------------------------------------------------------------------------------------------------------------------------------------------------------------------------------------------------------------------------------------------------------------------------------------------------------------------------------------------------------------------------------------------+-----------+\n",
      "only showing top 5 rows\n",
      "\n"
     ]
    }
   ],
   "source": [
    "import os\n",
    "from pyspark.sql import SparkSession, types\n",
    "from pyspark.sql import functions\n",
    "from pyspark.ml import feature\n",
    "from pyspark.sql.types import StructType, StructField, StringType, FloatType, BooleanType, IntegerType, ArrayType, MapType\n",
    "\n",
    "# Start a Spark Session\n",
    "spark = (\n",
    "    SparkSession.builder\n",
    "        .master(\"local\")\n",
    "        .appName(\"Amazon Review Analysis\") \n",
    "        .config(\"spark.executor.memory\", \"4g\")\n",
    "        .config(\"spark.driver.memory\", \"4g\")\n",
    "        .getOrCreate()\n",
    ")\n",
    "\n",
    "# Only using columns needed for analysis for Reviews\n",
    "reviews_schema = StructType([\n",
    "    StructField(\"rating\", FloatType(), True),\n",
    "    StructField(\"title\", StringType(), True),\n",
    "    StructField(\"text\", StringType(), True),\n",
    "    StructField(\"asin\", StringType(), True),\n",
    "    StructField(\"parent_asin\", StringType(), True),\n",
    "    StructField(\"user_id\", StringType(), True),\n",
    "    StructField(\"verified_purchase\", BooleanType() , True),\n",
    "    StructField(\"helpful_vite\", IntegerType() , True)\n",
    "])\n",
    "\n",
    "# Only using columns needed for analysis for Metadata\n",
    "meta_schema = StructType([\n",
    "    StructField(\"main_category\", StringType(), True),\n",
    "    StructField(\"title\", StringType(), True),\n",
    "    StructField(\"average_rating\", FloatType(), True),\n",
    "    StructField(\"rating_number\", IntegerType(), True),\n",
    "    StructField(\"features\", ArrayType(StringType(), True), True),\n",
    "    StructField(\"description\", ArrayType(StringType(), True), True),\n",
    "    StructField(\"price\", FloatType(), True),\n",
    "    StructField(\"store\", StringType(), True),\n",
    "    StructField(\"categories\", ArrayType(StringType(), True), True),\n",
    "    StructField(\"details\", MapType(StringType(), StringType(), True), True),\n",
    "    StructField(\"parent_asin\", StringType(), True)\n",
    "])\n",
    "\n",
    "# Point to the location where the .jsonl files are\n",
    "reviews_file = \"Appliances.jsonl\"\n",
    "meta_file = \"meta_Appliances.jsonl\"\n",
    "\n",
    "# Use the schema when reading the JSON file for Reviews\n",
    "df_reviews = spark.read.schema(reviews_schema).json(reviews_file)\n",
    "\n",
    "# Use the schema when reading the JSON file for Meta\n",
    "df_meta = spark.read.schema(meta_schema).json(meta_file)\n",
    "\n",
    "# Show the loaded DataFrame to ensure successful creation\n",
    "df_reviews.show(5, truncate=False)\n",
    "df_meta.show(5, truncate=False)\n"
   ]
  },
  {
   "cell_type": "markdown",
   "metadata": {},
   "source": [
    "The schemas printed above gives an overview of the fields that are being used in the model for both the Appliances Reviews and Appliances Metadata. Spark will naturally run on **PORT 4040**."
   ]
  },
  {
   "cell_type": "markdown",
   "metadata": {},
   "source": [
    "#### Initial Inspection & Basic Statistics\n",
    "\n",
    "First it is important to understand the size of the dataset we are dealing with and the distribution of ratings. Using Spark actions like `show()` and `count()` we determine some initial statistics about both datasets which will be helpful to visualize them."
   ]
  },
  {
   "cell_type": "code",
   "execution_count": 21,
   "metadata": {},
   "outputs": [
    {
     "name": "stdout",
     "output_type": "stream",
     "text": [
      "From the Reviews dataset\n"
     ]
    },
    {
     "name": "stderr",
     "output_type": "stream",
     "text": [
      "                                                                                \r"
     ]
    },
    {
     "name": "stdout",
     "output_type": "stream",
     "text": [
      "Number of Reviews:  2128605\n"
     ]
    },
    {
     "name": "stderr",
     "output_type": "stream",
     "text": [
      "[Stage 17:=================================================>        (6 + 1) / 7]\r"
     ]
    },
    {
     "name": "stdout",
     "output_type": "stream",
     "text": [
      "Number of distinct products:  104237\n",
      "From the Reviews dataset\n"
     ]
    },
    {
     "name": "stderr",
     "output_type": "stream",
     "text": [
      "[Stage 23:===================>                                      (1 + 1) / 3]\r"
     ]
    },
    {
     "name": "stdout",
     "output_type": "stream",
     "text": [
      "Amount of Metadata 94327\n"
     ]
    },
    {
     "name": "stderr",
     "output_type": "stream",
     "text": [
      "                                                                                \r"
     ]
    }
   ],
   "source": [
    "print(f\"From the Reviews dataset\")\n",
    "print(f\"Number of Reviews: \", df_reviews.count())\n",
    "print(f\"Number of distinct products: \", df_reviews.select(\"asin\").distinct().count())\n",
    "\n",
    "print(f\"From the Meta dataset\")\n",
    "print(f\"Amount of Metadata\", df_meta.count())"
   ]
  },
  {
   "cell_type": "code",
   "execution_count": 14,
   "metadata": {},
   "outputs": [],
   "source": [
    "spark.stop()"
   ]
  }
 ],
 "metadata": {
  "kernelspec": {
   "display_name": "venv",
   "language": "python",
   "name": "python3"
  },
  "language_info": {
   "codemirror_mode": {
    "name": "ipython",
    "version": 3
   },
   "file_extension": ".py",
   "mimetype": "text/x-python",
   "name": "python",
   "nbconvert_exporter": "python",
   "pygments_lexer": "ipython3",
   "version": "3.12.1"
  }
 },
 "nbformat": 4,
 "nbformat_minor": 2
}
